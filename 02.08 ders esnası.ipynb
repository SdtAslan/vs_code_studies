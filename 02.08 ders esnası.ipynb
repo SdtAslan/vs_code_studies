{
 "cells": [
  {
   "cell_type": "code",
   "execution_count": 18,
   "source": [
    "while True:\r\n",
    "    x1 = input(\"Enter a positive integer number\")\r\n",
    "    n = len(x1)\r\n",
    "    b = 0\r\n",
    "    if x1.isdigit():\r\n",
    "        for i in range(n):\r\n",
    "            a = int(x1[i]) ** n\r\n",
    "            b += a\r\n",
    "        if int(x1) == b:\r\n",
    "            print(x1,\"is an Armstrong number\")\r\n",
    "        else:\r\n",
    "            print(x1,\" is not an Armstrong number\")\r\n",
    "        break\r\n",
    "    else:\r\n",
    "        print(\"It is an invalid entry. Don't use non-numeric, float, or negative values!\")\r\n",
    "            "
   ],
   "outputs": [
    {
     "output_type": "stream",
     "name": "stdout",
     "text": [
      "9474 is an Armstrong number\n"
     ]
    }
   ],
   "metadata": {}
  },
  {
   "cell_type": "code",
   "execution_count": 19,
   "source": [
    "def add(a,b):\r\n",
    "    print(a + b)\r\n",
    "add(5,7)"
   ],
   "outputs": [
    {
     "output_type": "stream",
     "name": "stdout",
     "text": [
      "12\n"
     ]
    }
   ],
   "metadata": {}
  },
  {
   "cell_type": "code",
   "execution_count": 20,
   "source": [
    "def calculator(a, b, c):\r\n",
    "    if c == \"+\":\r\n",
    "        return a + b\r\n",
    "    elif c == \"-\":\r\n",
    "        return a - b\r\n",
    "    elif c == \"/\":\r\n",
    "        return a / b\r\n",
    "    elif c == \"*\":\r\n",
    "        return a * b\r\n",
    "    else:\r\n",
    "        return \"Enter valid argument\"\r\n",
    "print(calculator(9,5,\"+\"))"
   ],
   "outputs": [
    {
     "output_type": "stream",
     "name": "stdout",
     "text": [
      "14\n"
     ]
    }
   ],
   "metadata": {}
  },
  {
   "cell_type": "code",
   "execution_count": 26,
   "source": [
    "def absolute_value(x):\r\n",
    "    \r\n",
    "    \"\"\"This function gives absolute value\r\n",
    "of the ebtered number.\"\"\"\r\n",
    "    \r\n",
    "    if x >= 0:\r\n",
    "        return\r\n",
    "    else:\r\n",
    "        return -x\r\n",
    "\r\n",
    "print(absolute_value.__doc__)"
   ],
   "outputs": [
    {
     "output_type": "stream",
     "name": "stdout",
     "text": [
      "This function gives absolute value\n",
      "of the ebtered number.\n"
     ]
    }
   ],
   "metadata": {}
  },
  {
   "cell_type": "code",
   "execution_count": 29,
   "source": [
    "print(abs.__doc__)"
   ],
   "outputs": [
    {
     "output_type": "stream",
     "name": "stdout",
     "text": [
      "Return the absolute value of the argument.\n"
     ]
    }
   ],
   "metadata": {}
  }
 ],
 "metadata": {
  "orig_nbformat": 4,
  "language_info": {
   "name": "python",
   "version": "3.9.6",
   "mimetype": "text/x-python",
   "codemirror_mode": {
    "name": "ipython",
    "version": 3
   },
   "pygments_lexer": "ipython3",
   "nbconvert_exporter": "python",
   "file_extension": ".py"
  },
  "kernelspec": {
   "name": "python3",
   "display_name": "Python 3.9.6 64-bit (windows store)"
  },
  "interpreter": {
   "hash": "91e309b0d6f9bd13113d0dab55954c7a828cac190944509a12384aacede56c3d"
  }
 },
 "nbformat": 4,
 "nbformat_minor": 2
}