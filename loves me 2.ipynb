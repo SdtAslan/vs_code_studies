{
 "cells": [
  {
   "cell_type": "code",
   "execution_count": 7,
   "source": [
    "y = input(\"Enter a number for papatya falı\")\r\n",
    "if y.isdigit():\r\n",
    "    x = int(y)\r\n",
    "    a = \"Loves Me\"\r\n",
    "    b = \"Loves Me Not\"\r\n",
    "    boş = []\r\n",
    "    i = 0\r\n",
    "    while i < x - 1:\r\n",
    "        if i % 2 :\r\n",
    "            boş.append(b)\r\n",
    "        else:\r\n",
    "            boş.append(a)\r\n",
    "        i += 1\r\n",
    "    if x % 2:\r\n",
    "         boş.append(\"LOVES ME\")\r\n",
    "    else:\r\n",
    "         boş.append(\"LOVES ME NOT\")           \r\n",
    "    print(boş)\r\n",
    "    \r\n",
    "else:\r\n",
    "    print(\"It is an invalid entry. Don't use non-numeric, float, or negative values!\")"
   ],
   "outputs": [
    {
     "output_type": "stream",
     "name": "stdout",
     "text": [
      "It is an invalid entry. Don't use non-numeric, float, or negative values!\n"
     ]
    }
   ],
   "metadata": {}
  }
 ],
 "metadata": {
  "orig_nbformat": 4,
  "language_info": {
   "name": "python",
   "version": "3.9.6",
   "mimetype": "text/x-python",
   "codemirror_mode": {
    "name": "ipython",
    "version": 3
   },
   "pygments_lexer": "ipython3",
   "nbconvert_exporter": "python",
   "file_extension": ".py"
  },
  "kernelspec": {
   "name": "python3",
   "display_name": "Python 3.9.6 64-bit (windows store)"
  },
  "interpreter": {
   "hash": "91e309b0d6f9bd13113d0dab55954c7a828cac190944509a12384aacede56c3d"
  }
 },
 "nbformat": 4,
 "nbformat_minor": 2
}