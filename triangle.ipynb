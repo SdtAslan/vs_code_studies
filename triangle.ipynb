{
 "cells": [
  {
   "cell_type": "code",
   "execution_count": 10,
   "source": [
    "x1 = input(\"Enter the length of one side of the triangle\")\r\n",
    "y1 = input(\"Enter the length of one side of the triangle\")\r\n",
    "z1 = input(\"Enter the length of one side of the triangle\")\r\n",
    "if x1.isdigit() and y1.isdigit() and z1.isdigit():\r\n",
    "    x = int(x1)\r\n",
    "    y = int(y1)\r\n",
    "    z = int(z1)\r\n",
    "    if x == y == z:\r\n",
    "        çıktı = \"equilateral\"\r\n",
    "    elif x == y or x == z or y == z:\r\n",
    "        çıktı = \"isosceles\"\r\n",
    "    elif x != y != z:\r\n",
    "        çıktı = \"scalene\"   \r\n",
    "    print(x1,y1,z1, \"triangle is :\",çıktı)\r\n",
    "\r\n",
    "else:\r\n",
    "    print(\"It is an invalid entry. Don't use non-numeric, float, or negative values!\")    "
   ],
   "outputs": [
    {
     "output_type": "stream",
     "name": "stdout",
     "text": [
      "4 5 4 triangle is : isosceles\n"
     ]
    }
   ],
   "metadata": {}
  }
 ],
 "metadata": {
  "orig_nbformat": 4,
  "language_info": {
   "name": "python",
   "version": "3.9.6",
   "mimetype": "text/x-python",
   "codemirror_mode": {
    "name": "ipython",
    "version": 3
   },
   "pygments_lexer": "ipython3",
   "nbconvert_exporter": "python",
   "file_extension": ".py"
  },
  "kernelspec": {
   "name": "python3",
   "display_name": "Python 3.9.6 64-bit (windows store)"
  },
  "interpreter": {
   "hash": "91e309b0d6f9bd13113d0dab55954c7a828cac190944509a12384aacede56c3d"
  }
 },
 "nbformat": 4,
 "nbformat_minor": 2
}