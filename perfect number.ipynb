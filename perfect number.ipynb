{
 "cells": [
  {
   "cell_type": "code",
   "execution_count": 10,
   "source": [
    "\r\n",
    "def perfect_number(sayı):\r\n",
    "    perfect_number_list = []\r\n",
    "    k = 1\r\n",
    "    while k <= sayı :\r\n",
    "        tam_bölenler = []\r\n",
    "        for i in range(1,k) :\r\n",
    "            if k % i == 0:\r\n",
    "                tam_bölenler.append(i)\r\n",
    "        if sum(tam_bölenler) == k:\r\n",
    "            perfect_number_list.append(k)\r\n",
    "        k += 1   \r\n",
    "    return perfect_number_list\r\n",
    "print(perfect_number(500))"
   ],
   "outputs": [
    {
     "output_type": "stream",
     "name": "stdout",
     "text": [
      "[6, 28, 496]\n"
     ]
    }
   ],
   "metadata": {}
  },
  {
   "cell_type": "code",
   "execution_count": 43,
   "source": [
    "liste= [1,2,3]\r\n",
    "print(type(sum(liste)))"
   ],
   "outputs": [
    {
     "output_type": "stream",
     "name": "stdout",
     "text": [
      "<class 'int'>\n"
     ]
    }
   ],
   "metadata": {}
  },
  {
   "cell_type": "code",
   "execution_count": 1,
   "source": [
    "def perfect(number):\r\n",
    "    num_list = []\r\n",
    "    for i in range(1, number + 1):\r\n",
    "        if number % i == 0:\r\n",
    "            num_list.append(i)\r\n",
    "    total1 = sum(num_list) - num_list[-1]\r\n",
    "    total2 = sum(num_list)\r\n",
    "    if number == total1 and number == total2 / 2:\r\n",
    "        return '{} is a perfect number.'.format(number)\r\n",
    "    else:\r\n",
    "        return '{} is not a perfect number'.format(number)\r\n",
    "        \r\n",
    "perfect(28)"
   ],
   "outputs": [
    {
     "output_type": "execute_result",
     "data": {
      "text/plain": [
       "'28 is a perfect number.'"
      ]
     },
     "metadata": {},
     "execution_count": 1
    }
   ],
   "metadata": {}
  },
  {
   "cell_type": "code",
   "execution_count": 2,
   "source": [
    "def perfect(num):    \r\n",
    "    new_list = []\r\n",
    "    for k in range(2, num + 1):\r\n",
    "        num_list = []\r\n",
    "        for i in range(1, k):\r\n",
    "            if k % i == 0:\r\n",
    "                num_list.append(i)\r\n",
    "        total = sum(num_list)\r\n",
    "        if k == total:\r\n",
    "            new_list.append(k)\r\n",
    "    return new_list\r\n",
    "\r\n",
    "perfect(500)"
   ],
   "outputs": [
    {
     "output_type": "execute_result",
     "data": {
      "text/plain": [
       "[6, 28, 496]"
      ]
     },
     "metadata": {},
     "execution_count": 2
    }
   ],
   "metadata": {}
  },
  {
   "cell_type": "code",
   "execution_count": 1,
   "source": [
    "def perfect(number):\r\n",
    "    num_list = []\r\n",
    "    for i in range(1, number + 1):\r\n",
    "        if number % i == 0:\r\n",
    "            num_list.append(i)\r\n",
    "    total1 = sum(num_list) - num_list[-1]\r\n",
    "    total2 = sum(num_list)\r\n",
    "    if number == total1 and number == total2 / 2:\r\n",
    "        return '{} is a perfect number.'.format(number)\r\n",
    "    else:\r\n",
    "        return '{} is not a perfect number'.format(number)\r\n",
    "        \r\n",
    "perfect(28)"
   ],
   "outputs": [
    {
     "data": {
      "text/plain": [
       "'28 is a perfect number.'"
      ]
     },
     "metadata": {},
     "output_type": "display_data"
    }
   ],
   "metadata": {}
  },
  {
   "cell_type": "code",
   "execution_count": null,
   "source": [],
   "outputs": [],
   "metadata": {}
  }
 ],
 "metadata": {
  "orig_nbformat": 4,
  "language_info": {
   "name": "python",
   "version": "3.9.6",
   "mimetype": "text/x-python",
   "codemirror_mode": {
    "name": "ipython",
    "version": 3
   },
   "pygments_lexer": "ipython3",
   "nbconvert_exporter": "python",
   "file_extension": ".py"
  },
  "kernelspec": {
   "name": "python3",
   "display_name": "Python 3.9.6 64-bit (windows store)"
  },
  "interpreter": {
   "hash": "91e309b0d6f9bd13113d0dab55954c7a828cac190944509a12384aacede56c3d"
  }
 },
 "nbformat": 4,
 "nbformat_minor": 2
}