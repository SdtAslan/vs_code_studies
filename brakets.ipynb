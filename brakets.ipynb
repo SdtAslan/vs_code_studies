{
 "cells": [
  {
   "cell_type": "code",
   "execution_count": 6,
   "source": [
    "liste = []\r\n",
    "count = 0\r\n",
    "while True:\r\n",
    "    x = input(\"Enter brakets for put inside strings. İf you want break push to 'q'\")\r\n",
    "    liste.append(x)\r\n",
    "    count += 1\r\n",
    "    if x.lower() == \"q\":\r\n",
    "        break\r\n",
    "liste.remove(\"q\")\r\n",
    "len_ = len(liste)\r\n",
    "liste1 = [\"(\",\")\",\"[\",\"]\",\"{\",\"}\"]\r\n",
    "for i in liste:\r\n",
    "    if not i in liste1:\r\n",
    "        a = \"Please just enter brakets\"\r\n",
    "    elif (count - 1 ) % 2:\r\n",
    "        a =(liste, \"False\")\r\n",
    "        break\r\n",
    "k = 0\r\n",
    "while k < len_:\r\n",
    "    a = \"aaa\"\r\n",
    "    k += 1\r\n",
    "print(* a)\r\n"
   ],
   "outputs": [
    {
     "output_type": "stream",
     "name": "stdout",
     "text": [
      "a a a\n"
     ]
    }
   ],
   "metadata": {}
  },
  {
   "cell_type": "code",
   "execution_count": null,
   "source": [],
   "outputs": [],
   "metadata": {}
  }
 ],
 "metadata": {
  "orig_nbformat": 4,
  "language_info": {
   "name": "python",
   "version": "3.9.6",
   "mimetype": "text/x-python",
   "codemirror_mode": {
    "name": "ipython",
    "version": 3
   },
   "pygments_lexer": "ipython3",
   "nbconvert_exporter": "python",
   "file_extension": ".py"
  },
  "kernelspec": {
   "name": "python3",
   "display_name": "Python 3.9.6 64-bit (windows store)"
  },
  "interpreter": {
   "hash": "91e309b0d6f9bd13113d0dab55954c7a828cac190944509a12384aacede56c3d"
  }
 },
 "nbformat": 4,
 "nbformat_minor": 2
}