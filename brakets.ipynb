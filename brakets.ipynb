{
 "cells": [
  {
   "cell_type": "code",
   "execution_count": 1,
   "source": [
    "liste = []\r\n",
    "count = 0\r\n",
    "while True:\r\n",
    "    x = input(\"Enter brakets for put inside strings. İf you want break push to 'q'\")\r\n",
    "    liste.append(x)\r\n",
    "    count += 1\r\n",
    "    if x.lower() == \"q\":\r\n",
    "        break\r\n",
    "liste.remove(\"q\")\r\n",
    "len_ = len(liste)\r\n",
    "liste1 = [\"(\",\")\",\"[\",\"]\",\"{\",\"}\"]\r\n",
    "for i in liste:\r\n",
    "    if not i in liste1:\r\n",
    "        a = \"Please just enter brakets\"\r\n",
    "    elif (count - 1 ) % 2:\r\n",
    "        a =(liste, \"False\")\r\n",
    "        break\r\n",
    "\r\n",
    "while k < len_:\r\n",
    "    if liste[k] == liste\r\n",
    "    k += 1\r\n",
    "print(* a)\r\n"
   ],
   "outputs": [
    {
     "output_type": "stream",
     "name": "stdout",
     "text": [
      "a a a\n"
     ]
    }
   ],
   "metadata": {}
  },
  {
   "cell_type": "markdown",
   "source": [
    "süper çözüm"
   ],
   "metadata": {}
  },
  {
   "cell_type": "code",
   "execution_count": 4,
   "source": [
    "def isvalid(s) :\r\n",
    "    while \"()\" in s or \"{}\" in s or \"[]\" in s:\r\n",
    "        s = s.replace(\"()\",\"\").replace(\"[]\",\"\").replace(\"{}\",\"\")\r\n",
    "    return s == \"\"\r\n",
    "isvalid(\"([]{})\")"
   ],
   "outputs": [
    {
     "output_type": "execute_result",
     "data": {
      "text/plain": [
       "True"
      ]
     },
     "metadata": {},
     "execution_count": 4
    }
   ],
   "metadata": {}
  },
  {
   "cell_type": "markdown",
   "source": [
    "süper çözüm"
   ],
   "metadata": {}
  },
  {
   "cell_type": "markdown",
   "source": [],
   "metadata": {}
  },
  {
   "cell_type": "code",
   "execution_count": 5,
   "source": [
    "ls = list(input(‘Enter your code: ‘))\r\n",
    "for i in ls:\r\n",
    "    if i not in (‘(’, ‘)’, ‘[’, ‘]’, ‘{’, ‘}’):\r\n",
    "        ls = list(input(‘Enter valid characters: ‘))\r\n",
    "        break\r\n",
    "result = True\r\n",
    "d = {‘(’:‘)’, ‘[’:‘]’, ‘{’:‘}’,’)’:'(’, ‘]’:‘[’, ‘}’:‘{’}\r\n",
    "n = 0\r\n",
    "count = 0\r\n",
    "ls1 = []\r\n",
    "while n < len(ls)-1:\r\n",
    "    if d[ls[n]] not in ls[n+1:]:\r\n",
    "            result = False\r\n",
    "            break\r\n",
    "    if ls[n+1] == d[ls[n]]:\r\n",
    "        if count == 0:\r\n",
    "            n = n+2\r\n",
    "        else:\r\n",
    "            ls1.reverse()\r\n",
    "            if ls[n+2:n+2+count] == ls1:\r\n",
    "                n = n+2+count\r\n",
    "                ls1 = []\r\n",
    "                count = 0\r\n",
    "            else:\r\n",
    "                result = False\r\n",
    "                break\r\n",
    "    else:\r\n",
    "        ls1.append(d[ls[n]])\r\n",
    "        count+=1\r\n",
    "        n+=1\r\n",
    "print(result)"
   ],
   "outputs": [
    {
     "output_type": "error",
     "ename": "SyntaxError",
     "evalue": "invalid character '‘' (U+2018) (Temp/ipykernel_13044/3505746202.py, line 1)",
     "traceback": [
      "\u001b[1;36m  File \u001b[1;32m\"C:\\Users\\a\\AppData\\Local\\Temp/ipykernel_13044/3505746202.py\"\u001b[1;36m, line \u001b[1;32m1\u001b[0m\n\u001b[1;33m    ls = list(input(‘Enter your code: ‘))\u001b[0m\n\u001b[1;37m                    ^\u001b[0m\n\u001b[1;31mSyntaxError\u001b[0m\u001b[1;31m:\u001b[0m invalid character '‘' (U+2018)\n"
     ]
    }
   ],
   "metadata": {}
  }
 ],
 "metadata": {
  "orig_nbformat": 4,
  "language_info": {
   "name": "python",
   "version": "3.9.6",
   "mimetype": "text/x-python",
   "codemirror_mode": {
    "name": "ipython",
    "version": 3
   },
   "pygments_lexer": "ipython3",
   "nbconvert_exporter": "python",
   "file_extension": ".py"
  },
  "kernelspec": {
   "name": "python3",
   "display_name": "Python 3.9.6 64-bit (windows store)"
  },
  "interpreter": {
   "hash": "91e309b0d6f9bd13113d0dab55954c7a828cac190944509a12384aacede56c3d"
  }
 },
 "nbformat": 4,
 "nbformat_minor": 2
}