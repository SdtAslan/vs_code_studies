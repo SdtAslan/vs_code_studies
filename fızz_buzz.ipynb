{
 "cells": [
  {
   "cell_type": "code",
   "execution_count": 5,
   "source": [
    "for i in range(1,51):\r\n",
    "    if i % 3 ==0 and i % 5 == 0:\r\n",
    "        i = \"fızzbuzz\"\r\n",
    "    elif i % 3 == 0:\r\n",
    "        i = \"fızz\"\r\n",
    "    elif i % 5 == 0:\r\n",
    "        i = \"buzz\"\r\n",
    "    else:\r\n",
    "        i = i\r\n",
    "    print(i)                \r\n"
   ],
   "outputs": [
    {
     "output_type": "stream",
     "name": "stdout",
     "text": [
      "1\n",
      "2\n",
      "fızz\n",
      "4\n",
      "buzz\n",
      "fızz\n",
      "7\n",
      "8\n",
      "fızz\n",
      "buzz\n",
      "11\n",
      "fızz\n",
      "13\n",
      "14\n",
      "fızzbuzz\n",
      "16\n",
      "17\n",
      "fızz\n",
      "19\n",
      "buzz\n",
      "fızz\n",
      "22\n",
      "23\n",
      "fızz\n",
      "buzz\n",
      "26\n",
      "fızz\n",
      "28\n",
      "29\n",
      "fızzbuzz\n",
      "31\n",
      "32\n",
      "fızz\n",
      "34\n",
      "buzz\n",
      "fızz\n",
      "37\n",
      "38\n",
      "fızz\n",
      "buzz\n",
      "41\n",
      "fızz\n",
      "43\n",
      "44\n",
      "fızzbuzz\n",
      "46\n",
      "47\n",
      "fızz\n",
      "49\n",
      "buzz\n"
     ]
    }
   ],
   "metadata": {}
  }
 ],
 "metadata": {
  "orig_nbformat": 4,
  "language_info": {
   "name": "python",
   "version": "3.9.6",
   "mimetype": "text/x-python",
   "codemirror_mode": {
    "name": "ipython",
    "version": 3
   },
   "pygments_lexer": "ipython3",
   "nbconvert_exporter": "python",
   "file_extension": ".py"
  },
  "kernelspec": {
   "name": "python3",
   "display_name": "Python 3.9.6 64-bit (windows store)"
  },
  "interpreter": {
   "hash": "91e309b0d6f9bd13113d0dab55954c7a828cac190944509a12384aacede56c3d"
  }
 },
 "nbformat": 4,
 "nbformat_minor": 2
}