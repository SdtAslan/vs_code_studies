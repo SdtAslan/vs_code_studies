{
 "cells": [
  {
   "cell_type": "code",
   "execution_count": 16,
   "source": [
    "x = str(input(\"Enter a number\"))\r\n",
    "a = len(x)\r\n",
    "if a == 1:\r\n",
    "    z = int(x)\r\n",
    "elif a == 2:\r\n",
    "    z = ((int(x) // 10) - 1) * 20 + (int(x) % 10) * 2 + 9\r\n",
    "elif a == 3:\r\n",
    "     z = ((int(x) // 100) - 1) * 300 + (int(x) % 100) * 2 + 9\r\n",
    "print(z)   "
   ],
   "outputs": [
    {
     "output_type": "stream",
     "name": "stdout",
     "text": [
      "187\n"
     ]
    }
   ],
   "metadata": {}
  },
  {
   "cell_type": "code",
   "execution_count": 17,
   "source": [
    "def digitnum(user):\r\n",
    "    digit = \"\"\r\n",
    "    for i in range(user):digit +=str(i)\r\n",
    "    return len(digit)-1\r\n",
    "print(digitnum(100))"
   ],
   "outputs": [
    {
     "output_type": "stream",
     "name": "stdout",
     "text": [
      "189\n"
     ]
    }
   ],
   "metadata": {}
  }
 ],
 "metadata": {
  "orig_nbformat": 4,
  "language_info": {
   "name": "python",
   "version": "3.9.6",
   "mimetype": "text/x-python",
   "codemirror_mode": {
    "name": "ipython",
    "version": 3
   },
   "pygments_lexer": "ipython3",
   "nbconvert_exporter": "python",
   "file_extension": ".py"
  },
  "kernelspec": {
   "name": "python3",
   "display_name": "Python 3.9.6 64-bit (windows store)"
  },
  "interpreter": {
   "hash": "91e309b0d6f9bd13113d0dab55954c7a828cac190944509a12384aacede56c3d"
  }
 },
 "nbformat": 4,
 "nbformat_minor": 2
}