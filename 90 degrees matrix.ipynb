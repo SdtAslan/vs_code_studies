{
 "cells": [
  {
   "cell_type": "code",
   "execution_count": 38,
   "source": [
    "first_list = [[1,2,3],[4,5,6,],[7,8,9]]\r\n",
    "len_ = len(first_list[0])\r\n",
    "second_list = [[i for i in range(len_)] for i in range(len_)]\r\n",
    "i = 0\r\n",
    "while i < len_:\r\n",
    "    k = 0\r\n",
    "    while k < len_:\r\n",
    "        second_list[i][k] = first_list[(len_ - 1) - k][i]\r\n",
    "        k += 1\r\n",
    "    i += 1\r\n",
    "a = 0\r\n",
    "while a < len_:\r\n",
    "    print(second_list[a])\r\n",
    "    a += 1"
   ],
   "outputs": [
    {
     "output_type": "stream",
     "name": "stdout",
     "text": [
      "[7, 4, 1]\n",
      "[8, 5, 2]\n",
      "[9, 6, 3]\n"
     ]
    }
   ],
   "metadata": {}
  }
 ],
 "metadata": {
  "orig_nbformat": 4,
  "language_info": {
   "name": "python",
   "version": "3.9.6",
   "mimetype": "text/x-python",
   "codemirror_mode": {
    "name": "ipython",
    "version": 3
   },
   "pygments_lexer": "ipython3",
   "nbconvert_exporter": "python",
   "file_extension": ".py"
  },
  "kernelspec": {
   "name": "python3",
   "display_name": "Python 3.9.6 64-bit (windows store)"
  },
  "interpreter": {
   "hash": "91e309b0d6f9bd13113d0dab55954c7a828cac190944509a12384aacede56c3d"
  }
 },
 "nbformat": 4,
 "nbformat_minor": 2
}