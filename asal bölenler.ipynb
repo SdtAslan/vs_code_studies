{
 "cells": [
  {
   "cell_type": "code",
   "execution_count": 31,
   "source": [
    "#uzun ve gereksiz çözüm\r\n",
    "def bean(x):\r\n",
    "    asal_sayılar = []\r\n",
    "    for k in range(2,x +1):\r\n",
    "        count = 0\r\n",
    "        for i in range(1, k + 1):\r\n",
    "            if (k % i) == 0:\r\n",
    "                count += 1\r\n",
    "        if count <= 2:\r\n",
    "            asal_sayılar.append(k)      \r\n",
    "\r\n",
    "    \r\n",
    "    asal_bölenler = []\r\n",
    "    for i in asal_sayılar:\r\n",
    "        k = 0\r\n",
    "        while k <= 0:\r\n",
    "            if x % i == 0:\r\n",
    "                asal_bölenler.append(i)\r\n",
    "                x = x / i\r\n",
    "            else:\r\n",
    "                k += 1    \r\n",
    "                \r\n",
    "    return asal_bölenler\r\n",
    "bean(100)\r\n",
    "\r\n",
    "\r\n",
    "\r\n"
   ],
   "outputs": [
    {
     "output_type": "execute_result",
     "data": {
      "text/plain": [
       "[2, 2, 5, 5]"
      ]
     },
     "metadata": {},
     "execution_count": 31
    }
   ],
   "metadata": {}
  },
  {
   "cell_type": "code",
   "execution_count": 35,
   "source": [
    "#Buda kısa çözüm;\r\n",
    "def bean(x):    \r\n",
    "    asal_bölenler = []\r\n",
    "    for i in range(2, x + 1):\r\n",
    "        k = 0\r\n",
    "        while k <= 0:\r\n",
    "            if x % i == 0:\r\n",
    "                asal_bölenler.append(i)\r\n",
    "                x = x / i\r\n",
    "            else:\r\n",
    "                k += 1    \r\n",
    "                \r\n",
    "    return asal_bölenler\r\n",
    "print(bean(18))"
   ],
   "outputs": [
    {
     "output_type": "stream",
     "name": "stdout",
     "text": [
      "[2, 3, 3]\n"
     ]
    }
   ],
   "metadata": {}
  }
 ],
 "metadata": {
  "orig_nbformat": 4,
  "language_info": {
   "name": "python",
   "version": "3.9.6",
   "mimetype": "text/x-python",
   "codemirror_mode": {
    "name": "ipython",
    "version": 3
   },
   "pygments_lexer": "ipython3",
   "nbconvert_exporter": "python",
   "file_extension": ".py"
  },
  "kernelspec": {
   "name": "python3",
   "display_name": "Python 3.9.6 64-bit (windows store)"
  },
  "interpreter": {
   "hash": "91e309b0d6f9bd13113d0dab55954c7a828cac190944509a12384aacede56c3d"
  }
 },
 "nbformat": 4,
 "nbformat_minor": 2
}