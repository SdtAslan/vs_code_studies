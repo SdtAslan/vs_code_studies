{
 "cells": [
  {
   "cell_type": "code",
   "execution_count": 3,
   "source": [
    "alphabet = []\r\n",
    "atbash = []\r\n",
    "v = []\r\n",
    "for i in range(97, 123):\r\n",
    "    alphabet.append(chr(i))\r\n",
    "for i in range(122,96,-1):\r\n",
    "    atbash.append(chr(i))\r\n",
    "word = input(\"Enter a word\").lower()\r\n",
    "if word.isalpha():\r\n",
    "    for i in word:\r\n",
    "        v.append(alphabet[atbash.index(i)])\r\n",
    "    print(word)\r\n",
    "    print(*v)\r\n",
    "else:\r\n",
    "    print(\"Please enter alphabetic character\")"
   ],
   "outputs": [
    {
     "output_type": "stream",
     "name": "stdout",
     "text": [
      "sado\n",
      "h z w l\n"
     ]
    }
   ],
   "metadata": {}
  }
 ],
 "metadata": {
  "orig_nbformat": 4,
  "language_info": {
   "name": "python",
   "version": "3.9.6",
   "mimetype": "text/x-python",
   "codemirror_mode": {
    "name": "ipython",
    "version": 3
   },
   "pygments_lexer": "ipython3",
   "nbconvert_exporter": "python",
   "file_extension": ".py"
  },
  "kernelspec": {
   "name": "python3",
   "display_name": "Python 3.9.6 64-bit (windows store)"
  },
  "interpreter": {
   "hash": "91e309b0d6f9bd13113d0dab55954c7a828cac190944509a12384aacede56c3d"
  }
 },
 "nbformat": 4,
 "nbformat_minor": 2
}