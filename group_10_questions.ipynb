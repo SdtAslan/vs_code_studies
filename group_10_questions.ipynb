{
 "cells": [
  {
   "cell_type": "markdown",
   "source": [
    "1st Question"
   ],
   "metadata": {}
  },
  {
   "cell_type": "code",
   "execution_count": 7,
   "source": [
    "def sansür(sansürlü,sesli):\r\n",
    "    n = 0\r\n",
    "    for i in sansürlü:\r\n",
    "        if i == \"*\" :\r\n",
    "            sansürlü = sansürlü.replace(\"*\", sesli[n],1)\r\n",
    "            n += 1\r\n",
    "    return sansürlü\r\n",
    "print(sansür(\"s*ns*r\",\"aü\"))"
   ],
   "outputs": [
    {
     "output_type": "stream",
     "name": "stdout",
     "text": [
      "sansür\n"
     ]
    }
   ],
   "metadata": {}
  },
  {
   "cell_type": "code",
   "execution_count": 17,
   "source": [
    "def mrbean(cümle):\r\n",
    "    alphabet = \"abcçdefgğhıijklmnoöprsştuüvyz\"\r\n",
    "    toplam = 0\r\n",
    "    for i in cümle.lower():\r\n",
    "        if i in alphabet:\r\n",
    "            toplam += alphabet.index(i)+1\r\n",
    "    if toplam % 2 == 0:\r\n",
    "        return True\r\n",
    "    else:\r\n",
    "        return False\r\n",
    "mrbean(\"B d\")"
   ],
   "outputs": [
    {
     "output_type": "execute_result",
     "data": {
      "text/plain": [
       "False"
      ]
     },
     "metadata": {},
     "execution_count": 17
    }
   ],
   "metadata": {}
  },
  {
   "cell_type": "code",
   "execution_count": 18,
   "source": [
    "def compute_pay(h, r):\r\n",
    "  if h > 40:\r\n",
    "    p = 45*r + (h-40) * (r / 2)\r\n",
    "  else:\r\n",
    "    p= h*r\r\n",
    "  return p\r\n",
    "compute_pay(45, 2)"
   ],
   "outputs": [
    {
     "output_type": "execute_result",
     "data": {
      "text/plain": [
       "95.0"
      ]
     },
     "metadata": {},
     "execution_count": 18
    }
   ],
   "metadata": {}
  },
  {
   "cell_type": "code",
   "execution_count": 22,
   "source": [
    "def geri_say(n,yazi):\r\n",
    "    sonuç = \"\"\r\n",
    "    for i in range(n, 0, -1):\r\n",
    "        sonuç += str(i) + \"*\"\r\n",
    "    sonuç += yazi.upper() + \"!\"\r\n",
    "    return sonuç\r\n",
    "geri_say(3,\"go\")"
   ],
   "outputs": [
    {
     "output_type": "execute_result",
     "data": {
      "text/plain": [
       "'3*2*1*GO!'"
      ]
     },
     "metadata": {},
     "execution_count": 22
    }
   ],
   "metadata": {}
  },
  {
   "cell_type": "code",
   "execution_count": 25,
   "source": [
    "def yan_yana(liste):\r\n",
    "    for i in liste:\r\n",
    "        if liste.index(\"arif\") + 1 == liste.index(\"raife\") or liste.index(\"arif\") == liste.index(\"raife\") + 1:\r\n",
    "            return True\r\n",
    "        else: \r\n",
    "            return False\r\n",
    "print(yan_yana([\"arif\", \"raife\", \"kamil\"]))"
   ],
   "outputs": [
    {
     "output_type": "stream",
     "name": "stdout",
     "text": [
      "True\n"
     ]
    }
   ],
   "metadata": {}
  },
  {
   "cell_type": "code",
   "execution_count": null,
   "source": [
    "def indexi(a):\r\n",
    "    liste = [ i **2 for i in range(1, a +1)]\r\n",
    "    j = 0\r\n",
    "    for i in range(a):\r\n",
    "        j = i * liste[i] + j\r\n",
    "    return j"
   ],
   "outputs": [],
   "metadata": {}
  },
  {
   "cell_type": "code",
   "execution_count": null,
   "source": [],
   "outputs": [],
   "metadata": {}
  }
 ],
 "metadata": {
  "orig_nbformat": 4,
  "language_info": {
   "name": "python",
   "version": "3.9.6",
   "mimetype": "text/x-python",
   "codemirror_mode": {
    "name": "ipython",
    "version": 3
   },
   "pygments_lexer": "ipython3",
   "nbconvert_exporter": "python",
   "file_extension": ".py"
  },
  "kernelspec": {
   "name": "python3",
   "display_name": "Python 3.9.6 64-bit (windows store)"
  },
  "interpreter": {
   "hash": "91e309b0d6f9bd13113d0dab55954c7a828cac190944509a12384aacede56c3d"
  }
 },
 "nbformat": 4,
 "nbformat_minor": 2
}