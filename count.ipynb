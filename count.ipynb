{
 "cells": [
  {
   "cell_type": "code",
   "execution_count": 1,
   "source": [
    "sentence = input(\"enter a sentence\")\r\n",
    "listekeys = []\r\n",
    "listevalues = []\r\n",
    "print(sentence)\r\n",
    "\r\n",
    "def sayaç(sentence):\r\n",
    "    for i in sentence:\r\n",
    "        if i not in listekeys:\r\n",
    "            listekeys.append(i)\r\n",
    "            listevalues.append(sentence.count(i))\r\n",
    "\r\n",
    "    a = dict(zip(listekeys,listevalues))\r\n",
    "    return a\r\n",
    "\r\n",
    "sayaç(sentence)"
   ],
   "outputs": [
    {
     "output_type": "stream",
     "name": "stdout",
     "text": [
      "ben\n"
     ]
    },
    {
     "output_type": "execute_result",
     "data": {
      "text/plain": [
       "{'b': 1, 'e': 1, 'n': 1}"
      ]
     },
     "metadata": {},
     "execution_count": 1
    }
   ],
   "metadata": {}
  },
  {
   "cell_type": "markdown",
   "source": [
    "farklı bir çözüm"
   ],
   "metadata": {}
  },
  {
   "cell_type": "code",
   "execution_count": null,
   "source": [
    "def "
   ],
   "outputs": [],
   "metadata": {}
  }
 ],
 "metadata": {
  "orig_nbformat": 4,
  "language_info": {
   "name": "python",
   "version": "3.9.7",
   "mimetype": "text/x-python",
   "codemirror_mode": {
    "name": "ipython",
    "version": 3
   },
   "pygments_lexer": "ipython3",
   "nbconvert_exporter": "python",
   "file_extension": ".py"
  },
  "kernelspec": {
   "name": "python3",
   "display_name": "Python 3.9.7 64-bit (windows store)"
  },
  "interpreter": {
   "hash": "91e309b0d6f9bd13113d0dab55954c7a828cac190944509a12384aacede56c3d"
  }
 },
 "nbformat": 4,
 "nbformat_minor": 2
}