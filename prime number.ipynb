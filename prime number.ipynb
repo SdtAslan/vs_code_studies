{
 "cells": [
  {
   "cell_type": "code",
   "execution_count": 47,
   "source": [
    "y = input(\"Enter a number > learn to is it prime number\")\r\n",
    "if y.isdigit():\r\n",
    "    x = int(y)\r\n",
    "    if x < 2:\r\n",
    "        a = \"is not a prime number\"\r\n",
    "    elif x >= 2:\r\n",
    "        for i in range(2, x):\r\n",
    "            if x % i == 0:\r\n",
    "                a = \"is not a prime number\"\r\n",
    "    else:\r\n",
    "        a = \"is a prime number\"         \r\n",
    "    print(x, a)\r\n",
    "else:\r\n",
    "    print(\"It is an invalid entry. Don't use non-numeric, float, or negative values!\")"
   ],
   "outputs": [
    {
     "output_type": "stream",
     "name": "stdout",
     "text": [
      "7 is not a prime number\n"
     ]
    }
   ],
   "metadata": {}
  }
 ],
 "metadata": {
  "orig_nbformat": 4,
  "language_info": {
   "name": "python",
   "version": "3.9.6",
   "mimetype": "text/x-python",
   "codemirror_mode": {
    "name": "ipython",
    "version": 3
   },
   "pygments_lexer": "ipython3",
   "nbconvert_exporter": "python",
   "file_extension": ".py"
  },
  "kernelspec": {
   "name": "python3",
   "display_name": "Python 3.9.6 64-bit (windows store)"
  },
  "interpreter": {
   "hash": "91e309b0d6f9bd13113d0dab55954c7a828cac190944509a12384aacede56c3d"
  }
 },
 "nbformat": 4,
 "nbformat_minor": 2
}