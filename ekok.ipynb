{
 "cells": [
  {
   "cell_type": "code",
   "execution_count": 72,
   "source": [
    "def ekok(sayı):\r\n",
    "    tam_bölenler = []\r\n",
    "    for i in sayı :\r\n",
    "        for j in range(2, i+ 1) :\r\n",
    "            if i % j == 0:\r\n",
    "                if j not in tam_bölenler:\r\n",
    "                    tam_bölenler.append(j)\r\n",
    "    \r\n",
    "    for i in sorted(tam_bölenler):\r\n",
    "        for j in tam_bölenler:\r\n",
    "            if i != j and i * j in tam_bölenler :\r\n",
    "                a = i * j\r\n",
    "                tam_bölenler.remove(a)\r\n",
    "        \r\n",
    "    \r\n",
    "    #a = 1\r\n",
    "    #for i in tam_bölenler:\r\n",
    "    #    a = i * a      )       \r\n",
    "   \r\n",
    "    \r\n",
    "    \r\n",
    "                #for ii in tam_bölenler:\r\n",
    "                 #   if j % ii == 0:\r\n",
    "                  #      if ii not in tam_bölenler : \r\n",
    "                   #         tam_bölenler.append(j)\r\n",
    "        #if count == 0:\r\n",
    "            #tam_bölenler.append(i)\r\n",
    "     \r\n",
    "    return tam_bölenler\r\n",
    "\r\n",
    "print(ekok([3,5,7,8,10]))"
   ],
   "outputs": [
    {
     "output_type": "stream",
     "name": "stdout",
     "text": [
      "[3, 5, 7, 2, 4]\n"
     ]
    }
   ],
   "metadata": {}
  },
  {
   "cell_type": "code",
   "execution_count": 73,
   "source": [
    "def least_common(liste):\r\n",
    "    asal_sayilar = []\r\n",
    "    carpim = 1\r\n",
    "    for i in range(2, max(liste) + 1):\r\n",
    "        asal_sayi = []\r\n",
    "        for j in range(2, i):\r\n",
    "            if i % j == 0:\r\n",
    "                asal_sayi.append(j)\r\n",
    "        if asal_sayi == []:\r\n",
    "            asal_sayilar.append(i)\r\n",
    "    for x in asal_sayilar:\r\n",
    "        sayac = 0\r\n",
    "        while sayac != len(liste):\r\n",
    "            sayac = 0\r\n",
    "            sonuc = []\r\n",
    "            for y in liste:\r\n",
    "                if y % x == 0:\r\n",
    "                    y = y // x\r\n",
    "                    sonuc.append(y)\r\n",
    "                else:\r\n",
    "                    sonuc.append(y)\r\n",
    "                    sayac += 1\r\n",
    "            if sayac < len(liste):\r\n",
    "                carpim *= x\r\n",
    "            liste = sonuc\r\n",
    "    return carpim\r\n",
    "\r\n",
    "least_common([1, 2, 3, 4, 5, 6, 7, 8, 9])"
   ],
   "outputs": [
    {
     "output_type": "execute_result",
     "data": {
      "text/plain": [
       "2520"
      ]
     },
     "metadata": {},
     "execution_count": 73
    }
   ],
   "metadata": {}
  },
  {
   "cell_type": "code",
   "execution_count": 78,
   "source": [
    "help(yield)"
   ],
   "outputs": [
    {
     "output_type": "error",
     "ename": "SyntaxError",
     "evalue": "invalid syntax (Temp/ipykernel_13896/2547851913.py, line 1)",
     "traceback": [
      "\u001b[1;36m  File \u001b[1;32m\"C:\\Users\\a\\AppData\\Local\\Temp/ipykernel_13896/2547851913.py\"\u001b[1;36m, line \u001b[1;32m1\u001b[0m\n\u001b[1;33m    help( yield)\u001b[0m\n\u001b[1;37m          ^\u001b[0m\n\u001b[1;31mSyntaxError\u001b[0m\u001b[1;31m:\u001b[0m invalid syntax\n"
     ]
    }
   ],
   "metadata": {}
  }
 ],
 "metadata": {
  "orig_nbformat": 4,
  "language_info": {
   "name": "python",
   "version": "3.9.6",
   "mimetype": "text/x-python",
   "codemirror_mode": {
    "name": "ipython",
    "version": 3
   },
   "pygments_lexer": "ipython3",
   "nbconvert_exporter": "python",
   "file_extension": ".py"
  },
  "kernelspec": {
   "name": "python3",
   "display_name": "Python 3.9.6 64-bit (windows store)"
  },
  "interpreter": {
   "hash": "91e309b0d6f9bd13113d0dab55954c7a828cac190944509a12384aacede56c3d"
  }
 },
 "nbformat": 4,
 "nbformat_minor": 2
}