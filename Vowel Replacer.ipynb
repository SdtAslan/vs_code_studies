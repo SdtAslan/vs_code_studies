{
 "cells": [
  {
   "cell_type": "code",
   "execution_count": 25,
   "source": [
    "x = input(\"Enter a sentence:\")\r\n",
    "y = []\r\n",
    "vowel = [\"a\",\"e\",\"i\",\"ö\",\"ü\"]\r\n",
    "for i in x:\r\n",
    "    if i == \"a\":\r\n",
    "        i = \"?\"\r\n",
    "    elif i == \"e\":\r\n",
    "        i = \"/\"\r\n",
    "    elif i == \"i\":\r\n",
    "        i = \"*\"\r\n",
    "    elif i == \"ü\":\r\n",
    "        i == \"&\"\r\n",
    "    elif i == \"ö\":\r\n",
    "        i == \"%\"    \r\n",
    "\r\n",
    "    y.append(i)\r\n",
    "print(*y)\r\n"
   ],
   "outputs": [
    {
     "output_type": "stream",
     "name": "stdout",
     "text": [
      "s / d ? t\n"
     ]
    }
   ],
   "metadata": {}
  },
  {
   "cell_type": "code",
   "execution_count": 26,
   "source": [
    "text = input('Enter a text here > ')\r\n",
    "replacer = input('With what you want to replace the vowels > ')\r\n",
    "liste = []\r\n",
    "for i in text:\r\n",
    "    if i in ['a', 'e' ,'i' ,'u', 'o']:\r\n",
    "        i = replacer\r\n",
    "    liste.append(i)\r\n",
    "for i in liste:\r\n",
    "    print(i, end = '')\r\n",
    "\r\n"
   ],
   "outputs": [
    {
     "output_type": "stream",
     "name": "stdout",
     "text": [
      "s*d*t"
     ]
    }
   ],
   "metadata": {}
  }
 ],
 "metadata": {
  "orig_nbformat": 4,
  "language_info": {
   "name": "python",
   "version": "3.9.6",
   "mimetype": "text/x-python",
   "codemirror_mode": {
    "name": "ipython",
    "version": 3
   },
   "pygments_lexer": "ipython3",
   "nbconvert_exporter": "python",
   "file_extension": ".py"
  },
  "kernelspec": {
   "name": "python3",
   "display_name": "Python 3.9.6 64-bit (windows store)"
  },
  "interpreter": {
   "hash": "91e309b0d6f9bd13113d0dab55954c7a828cac190944509a12384aacede56c3d"
  }
 },
 "nbformat": 4,
 "nbformat_minor": 2
}