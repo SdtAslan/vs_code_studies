{
 "cells": [
  {
   "cell_type": "code",
   "execution_count": 4,
   "source": [
    "def sum_double(x, y):\r\n",
    "    if x == y:\r\n",
    "        return (x + y) * 2\r\n",
    "    else:\r\n",
    "        return x + y\r\n",
    "print(sum_double(4,5))"
   ],
   "outputs": [
    {
     "output_type": "stream",
     "name": "stdout",
     "text": [
      "9\n"
     ]
    }
   ],
   "metadata": {}
  },
  {
   "cell_type": "code",
   "execution_count": 17,
   "source": [
    "def zengin(sayı):\r\n",
    "    tam_bölenler = []\r\n",
    "    sayı = int(sayı)\r\n",
    "    \r\n",
    "    \r\n",
    "    for i in range(1, sayı):\r\n",
    "        if sayı % i == 0:\r\n",
    "            tam_bölenler.append(i)\r\n",
    "    b = sum(tam_bölenler)\r\n",
    "    if b > sayı :\r\n",
    "        return True\r\n",
    "    else:\r\n",
    "        return False\r\n",
    "print(zengin(12))\r\n",
    "\r\n"
   ],
   "outputs": [
    {
     "output_type": "stream",
     "name": "stdout",
     "text": [
      "True\n"
     ]
    }
   ],
   "metadata": {}
  },
  {
   "cell_type": "markdown",
   "source": [
    "def zengin(sayı):\r\n"
   ],
   "metadata": {}
  },
  {
   "cell_type": "code",
   "execution_count": null,
   "source": [],
   "outputs": [],
   "metadata": {}
  }
 ],
 "metadata": {
  "orig_nbformat": 4,
  "language_info": {
   "name": "python",
   "version": "3.9.6",
   "mimetype": "text/x-python",
   "codemirror_mode": {
    "name": "ipython",
    "version": 3
   },
   "pygments_lexer": "ipython3",
   "nbconvert_exporter": "python",
   "file_extension": ".py"
  },
  "kernelspec": {
   "name": "python3",
   "display_name": "Python 3.9.6 64-bit (windows store)"
  },
  "interpreter": {
   "hash": "91e309b0d6f9bd13113d0dab55954c7a828cac190944509a12384aacede56c3d"
  }
 },
 "nbformat": 4,
 "nbformat_minor": 2
}