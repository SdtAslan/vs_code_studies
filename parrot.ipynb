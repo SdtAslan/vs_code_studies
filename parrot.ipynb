{
 "cells": [
  {
   "cell_type": "code",
   "execution_count": 14,
   "source": [
    "def parrot_trouble(talking, hour):\r\n",
    "    x = bool(talking)\r\n",
    "    y = [i for i in range(24)]\r\n",
    "    if not int(hour) in y:\r\n",
    "        print(\"Please enter value between 0 to 23\")\r\n",
    "    else:\r\n",
    "        if x:\r\n",
    "            if int(hour) < 6 or int(hour) > 20:\r\n",
    "                return True\r\n",
    "                \r\n",
    "            else:\r\n",
    "                return False\r\n",
    "        else:\r\n",
    "            return False\r\n",
    "            \r\n",
    "    \r\n",
    "print(parrot_trouble(True,5))"
   ],
   "outputs": [
    {
     "output_type": "stream",
     "name": "stdout",
     "text": [
      "True\n"
     ]
    }
   ],
   "metadata": {}
  },
  {
   "cell_type": "code",
   "execution_count": null,
   "source": [],
   "outputs": [],
   "metadata": {}
  }
 ],
 "metadata": {
  "orig_nbformat": 4,
  "language_info": {
   "name": "python",
   "version": "3.9.6",
   "mimetype": "text/x-python",
   "codemirror_mode": {
    "name": "ipython",
    "version": 3
   },
   "pygments_lexer": "ipython3",
   "nbconvert_exporter": "python",
   "file_extension": ".py"
  },
  "kernelspec": {
   "name": "python3",
   "display_name": "Python 3.9.6 64-bit (windows store)"
  },
  "interpreter": {
   "hash": "91e309b0d6f9bd13113d0dab55954c7a828cac190944509a12384aacede56c3d"
  }
 },
 "nbformat": 4,
 "nbformat_minor": 2
}