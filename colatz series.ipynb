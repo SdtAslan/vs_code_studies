{
 "cells": [
  {
   "cell_type": "code",
   "execution_count": 4,
   "source": [
    "y = input(\"Enter a number for colatz series\")\r\n",
    "colatz_series = []\r\n",
    "if y.isdigit():\r\n",
    "    x = int(y)\r\n",
    "    colatz_series.append(x)\r\n",
    "    while not x == 1:\r\n",
    "        if x % 2:\r\n",
    "            x = 3 * x + 1\r\n",
    "            colatz_series.append(x)\r\n",
    "        else:\r\n",
    "            x = int(x / 2)\r\n",
    "            colatz_series.append(x)\r\n",
    "    print(colatz_series)\r\n",
    "    \r\n",
    "else:\r\n",
    "    print(\"It is an invalid entry. Don't use non-numeric, float, or negative values!\")"
   ],
   "outputs": [
    {
     "output_type": "stream",
     "name": "stdout",
     "text": [
      "[15, 46, 23, 70, 35, 106, 53, 160, 80, 40, 20, 10, 5, 16, 8, 4, 2, 1]\n"
     ]
    }
   ],
   "metadata": {}
  },
  {
   "cell_type": "code",
   "execution_count": null,
   "source": [],
   "outputs": [],
   "metadata": {}
  },
  {
   "cell_type": "code",
   "execution_count": 21,
   "source": [
    "def collatz(n):\r\n",
    "    ls = [n]\r\n",
    "    while n!=1:\r\n",
    "        if n%2:\r\n",
    "            ls.append(int(n*3+1))\r\n",
    "            n = n*3+1\r\n",
    "        else:\r\n",
    "            ls.append(int(n/2))\r\n",
    "            n = n/2\r\n",
    "    return ls\r\n",
    "print(collatz(13))"
   ],
   "outputs": [
    {
     "output_type": "stream",
     "name": "stdout",
     "text": [
      "[13, 40, 20, 10, 5, 16, 8, 4, 2, 1]\n"
     ]
    }
   ],
   "metadata": {}
  }
 ],
 "metadata": {
  "orig_nbformat": 4,
  "language_info": {
   "name": "python",
   "version": "3.9.6",
   "mimetype": "text/x-python",
   "codemirror_mode": {
    "name": "ipython",
    "version": 3
   },
   "pygments_lexer": "ipython3",
   "nbconvert_exporter": "python",
   "file_extension": ".py"
  },
  "kernelspec": {
   "name": "python3",
   "display_name": "Python 3.9.6 64-bit (windows store)"
  },
  "interpreter": {
   "hash": "91e309b0d6f9bd13113d0dab55954c7a828cac190944509a12384aacede56c3d"
  }
 },
 "nbformat": 4,
 "nbformat_minor": 2
}