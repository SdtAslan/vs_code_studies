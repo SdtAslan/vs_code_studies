{
 "cells": [
  {
   "cell_type": "code",
   "execution_count": 6,
   "source": [
    "y = input(\"Enter a positive number\")\r\n",
    "if y.isdigit():\r\n",
    "    x = int(y)\r\n",
    "    liste = []\r\n",
    "    for k in range(2,x +1):\r\n",
    "        count = 0\r\n",
    "        for i in range(1, k + 1):\r\n",
    "            if (k % i) == 0:\r\n",
    "                count += 1\r\n",
    "        if count <= 2:\r\n",
    "            liste.append(k)      \r\n",
    "    print(\"prime numbers up to:\",x, \">>\", liste)\r\n",
    "    \r\n",
    "else:\r\n",
    "    print(\"It is an invalid entry. Don't use non-numeric, float, or negative values!\")"
   ],
   "outputs": [
    {
     "output_type": "stream",
     "name": "stdout",
     "text": [
      "prime numbers up to: 100 >> [2, 3, 5, 7, 11, 13, 17, 19, 23, 29, 31, 37, 41, 43, 47, 53, 59, 61, 67, 71, 73, 79, 83, 89, 97]\n"
     ]
    }
   ],
   "metadata": {}
  }
 ],
 "metadata": {
  "orig_nbformat": 4,
  "language_info": {
   "name": "python",
   "version": "3.9.6",
   "mimetype": "text/x-python",
   "codemirror_mode": {
    "name": "ipython",
    "version": 3
   },
   "pygments_lexer": "ipython3",
   "nbconvert_exporter": "python",
   "file_extension": ".py"
  },
  "kernelspec": {
   "name": "python3",
   "display_name": "Python 3.9.6 64-bit (windows store)"
  },
  "interpreter": {
   "hash": "91e309b0d6f9bd13113d0dab55954c7a828cac190944509a12384aacede56c3d"
  }
 },
 "nbformat": 4,
 "nbformat_minor": 2
}