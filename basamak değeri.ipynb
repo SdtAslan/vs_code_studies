{
 "cells": [
  {
   "cell_type": "code",
   "execution_count": 28,
   "source": [
    "def MrBean(num):\r\n",
    "    num = str(num)\r\n",
    "    if \"-\" in num:\r\n",
    "        num = num.replace(\"-\",\"\")\r\n",
    "        len_ = len(num)\r\n",
    "        i = 0\r\n",
    "        cen = []\r\n",
    "        while i < len_ :\r\n",
    "            a = int(num[i]) * (10 ** (len_ - i- 1))\r\n",
    "            b = (-a)\r\n",
    "            cen.append(b)\r\n",
    "            i += 1  \r\n",
    "    else:\r\n",
    "        i = 0\r\n",
    "        while i < len_ :\r\n",
    "            a = int(num[i]) * (10 ** (len_ - i- 1))\r\n",
    "            cen.append(b)\r\n",
    "            i += 1   \r\n",
    "    return cen\r\n",
    "MrBean(-1556)"
   ],
   "outputs": [
    {
     "output_type": "execute_result",
     "data": {
      "text/plain": [
       "[-1000, -500, -50, -6]"
      ]
     },
     "metadata": {},
     "execution_count": 28
    }
   ],
   "metadata": {}
  },
  {
   "cell_type": "code",
   "execution_count": 29,
   "source": [
    "def num_split(num):\r\n",
    "    a=[]\r\n",
    "    count=0\r\n",
    "    for i in str(abs(num))[::-1]:\r\n",
    "        a.append(int(i)*(10**(count)))\r\n",
    "        count+=1\r\n",
    "    return a[::-1] if num >0 else [-1*i for i in a[::-1]]\r\n",
    "num_split(-1556)"
   ],
   "outputs": [
    {
     "output_type": "execute_result",
     "data": {
      "text/plain": [
       "[-1000, -500, -50, -6]"
      ]
     },
     "metadata": {},
     "execution_count": 29
    }
   ],
   "metadata": {}
  }
 ],
 "metadata": {
  "orig_nbformat": 4,
  "language_info": {
   "name": "python",
   "version": "3.9.6",
   "mimetype": "text/x-python",
   "codemirror_mode": {
    "name": "ipython",
    "version": 3
   },
   "pygments_lexer": "ipython3",
   "nbconvert_exporter": "python",
   "file_extension": ".py"
  },
  "kernelspec": {
   "name": "python3",
   "display_name": "Python 3.9.6 64-bit (windows store)"
  },
  "interpreter": {
   "hash": "91e309b0d6f9bd13113d0dab55954c7a828cac190944509a12384aacede56c3d"
  }
 },
 "nbformat": 4,
 "nbformat_minor": 2
}