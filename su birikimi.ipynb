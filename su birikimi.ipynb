{
 "cells": [
  {
   "cell_type": "code",
   "execution_count": 5,
   "source": [
    "liste = [0, 1, 0, 2, 1, 0, 1, 3, 2, 1, 2, 1]\r\n",
    "len_ = len(liste)\r\n",
    "total = 0\r\n",
    "i = 0\r\n",
    "while i < len_ - 1:\r\n",
    "    if liste[i] > liste[i+1]:\r\n",
    "        if \r\n",
    "    i += 1\r\n",
    "print(total)    \r\n",
    "    \r\n"
   ],
   "outputs": [
    {
     "output_type": "stream",
     "name": "stdout",
     "text": [
      "6\n"
     ]
    }
   ],
   "metadata": {}
  },
  {
   "cell_type": "code",
   "execution_count": 4,
   "source": [
    "height = []\r\n",
    "while True:\r\n",
    "    num = input(\"Type 'ok' when you are done: \")\r\n",
    "    if num != \"ok\":\r\n",
    "        height.append(int(num))\r\n",
    "    else:\r\n",
    "        break\r\n",
    "areas = 0\r\n",
    "max_l = max_r = 0\r\n",
    "l = 0\r\n",
    "r = len(height)-1\r\n",
    "while l < r:\r\n",
    "    if height[l] < height[r]:\r\n",
    "        if height[l] > max_l:\r\n",
    "            max_l = height[l]\r\n",
    "        else:\r\n",
    "            areas += max_l - height[l]\r\n",
    "        l += 1\r\n",
    "    else:\r\n",
    "        if height[r] > max_r:\r\n",
    "            max_r = height[r]\r\n",
    "        else:\r\n",
    "            areas += max_r - height[r]\r\n",
    "        r -= 1\r\n",
    "print(\"Water-trapped area : \", areas)"
   ],
   "outputs": [
    {
     "output_type": "stream",
     "name": "stdout",
     "text": [
      "Water-trapped area :  23\n"
     ]
    }
   ],
   "metadata": {}
  }
 ],
 "metadata": {
  "orig_nbformat": 4,
  "language_info": {
   "name": "python",
   "version": "3.8.8",
   "mimetype": "text/x-python",
   "codemirror_mode": {
    "name": "ipython",
    "version": 3
   },
   "pygments_lexer": "ipython3",
   "nbconvert_exporter": "python",
   "file_extension": ".py"
  },
  "kernelspec": {
   "name": "python3",
   "display_name": "Python 3.8.8 64-bit ('base': conda)"
  },
  "interpreter": {
   "hash": "b9ed21ce3e79e551a27a11d2551dd0fb060a3f4c5f44a14454b2145fe2b135cb"
  }
 },
 "nbformat": 4,
 "nbformat_minor": 2
}