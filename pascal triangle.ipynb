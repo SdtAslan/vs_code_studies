{
 "cells": [
  {
   "cell_type": "code",
   "execution_count": 6,
   "source": [
    "n = 3\r\n",
    "liste = [[] for i in range(n)]\r\n",
    "i = 0\r\n",
    "while i < n :\r\n",
    "    k = 0\r\n",
    "    for i in liste :\r\n",
    "        \r\n",
    "        \r\n",
    "        k += 1\r\n",
    "    \r\n",
    "    i += 1\r\n",
    "\r\n",
    "liste"
   ],
   "outputs": [
    {
     "output_type": "execute_result",
     "data": {
      "text/plain": [
       "[[], [], []]"
      ]
     },
     "metadata": {},
     "execution_count": 6
    }
   ],
   "metadata": {}
  },
  {
   "cell_type": "code",
   "execution_count": 2,
   "source": [
    "if 0 == []:\r\n",
    "    print(\"a\")\r\n",
    "else:\r\n",
    "    print(\"b\")"
   ],
   "outputs": [
    {
     "output_type": "stream",
     "name": "stdout",
     "text": [
      "b\n"
     ]
    }
   ],
   "metadata": {}
  }
 ],
 "metadata": {
  "orig_nbformat": 4,
  "language_info": {
   "name": "python",
   "version": "3.9.6",
   "mimetype": "text/x-python",
   "codemirror_mode": {
    "name": "ipython",
    "version": 3
   },
   "pygments_lexer": "ipython3",
   "nbconvert_exporter": "python",
   "file_extension": ".py"
  },
  "kernelspec": {
   "name": "python3",
   "display_name": "Python 3.9.6 64-bit (windows store)"
  },
  "interpreter": {
   "hash": "91e309b0d6f9bd13113d0dab55954c7a828cac190944509a12384aacede56c3d"
  }
 },
 "nbformat": 4,
 "nbformat_minor": 2
}