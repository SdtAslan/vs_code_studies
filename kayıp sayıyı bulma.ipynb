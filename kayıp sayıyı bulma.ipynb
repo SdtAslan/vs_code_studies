{
 "cells": [
  {
   "cell_type": "code",
   "execution_count": 9,
   "source": [
    "num = [48, 10, 11, 21, 36, 5, 6, 52, 28, 29,\r\n",
    "       53, 54, 45, 19, 20, 47, 55, 39, 41, 7,\r\n",
    "       9, 17, 26, 27, 42, 22, 37, 51, 46, 18,\r\n",
    "       44, 30, 34, 13, 15, 35, 33, 16, 50, 24]\r\n",
    "min_ = min(num)\r\n",
    "max_ = max(num)\r\n",
    "set_ = set(num)\r\n",
    "difference_set = set(range(min_,max_)) - set_\r\n",
    "a = list(sorted(difference_set))\r\n",
    "çıktı = list()\r\n",
    "for i in a:\r\n",
    "    if i % 2 == 0:\r\n",
    "        çıktı.append(i) \r\n",
    "print(çıktı)"
   ],
   "outputs": [
    {
     "output_type": "stream",
     "name": "stdout",
     "text": [
      "[8, 12, 14, 32, 38, 40]\n"
     ]
    }
   ],
   "metadata": {}
  }
 ],
 "metadata": {
  "orig_nbformat": 4,
  "language_info": {
   "name": "python",
   "version": "3.8.8",
   "mimetype": "text/x-python",
   "codemirror_mode": {
    "name": "ipython",
    "version": 3
   },
   "pygments_lexer": "ipython3",
   "nbconvert_exporter": "python",
   "file_extension": ".py"
  },
  "kernelspec": {
   "name": "python3",
   "display_name": "Python 3.8.8 64-bit ('base': conda)"
  },
  "interpreter": {
   "hash": "b9ed21ce3e79e551a27a11d2551dd0fb060a3f4c5f44a14454b2145fe2b135cb"
  }
 },
 "nbformat": 4,
 "nbformat_minor": 2
}