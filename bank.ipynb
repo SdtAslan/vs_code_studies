{
 "cells": [
  {
   "cell_type": "code",
   "execution_count": 12,
   "source": [
    "balance = 1000\r\n",
    "while True:\r\n",
    "    print(\"Welcome to the Bank Of Clarus\", \"\\n\", \"\\n\", \"Please select the action you want to take\", \"\\n\", \"\\n\", \"1-Balance inquiry\", \"\\n\", \"2-Invest in\", \"\\n\", \"3-Draft\", \"\\n\", \"Press q to exit\")\r\n",
    "    x = str(input(\"Press any key\"))\r\n",
    "    if x == \"1\":\r\n",
    "        print(\"Your Balance is:\", balance)    \r\n",
    "    elif x == \"2\":\r\n",
    "        a = int(input(\"Add your money.Up to 40 pieces. Please entry amount\"))\r\n",
    "        balance = balance + a\r\n",
    "        print(\"Your new balance is: \",balance)\r\n",
    "    elif x == \"3\":\r\n",
    "        b = int(input(\"Enter the amount you want to draft:\"))\r\n",
    "        if balance >= b:\r\n",
    "            balance = balance -b\r\n",
    "            print(\"Available balance is:\", balance)\r\n",
    "        else:\r\n",
    "            print(\"Insufficient balance\")\r\n",
    "    elif x == \"q\":\r\n",
    "        print(\"See you again\")\r\n",
    "        break\r\n",
    "    else:\r\n",
    "        print(\"Try again\")\r\n",
    "    question_ = str(input(\"Would you like to take another action? (press 'y' : yes, 'n' : no)\"))\r\n",
    "    if question_ == \"y\":\r\n",
    "        True\r\n",
    "    else:\r\n",
    "        break\r\n"
   ],
   "outputs": [
    {
     "output_type": "stream",
     "name": "stdout",
     "text": [
      "Welcome to the Bank Of Clarus \n",
      " \n",
      " Please select the action you want to take \n",
      " \n",
      " 1-Balance inquiry \n",
      " 2-Invest in \n",
      " 3-Draft \n",
      " Press q to exit\n",
      "Available balance is: 900\n",
      "Welcome to the Bank Of Clarus \n",
      " \n",
      " Please select the action you want to take \n",
      " \n",
      " 1-Balance inquiry \n",
      " 2-Invest in \n",
      " 3-Draft \n",
      " Press q to exit\n",
      "Your new balance is:  2400\n",
      "Welcome to the Bank Of Clarus \n",
      " \n",
      " Please select the action you want to take \n",
      " \n",
      " 1-Balance inquiry \n",
      " 2-Invest in \n",
      " 3-Draft \n",
      " Press q to exit\n",
      "See you again\n"
     ]
    }
   ],
   "metadata": {}
  },
  {
   "cell_type": "code",
   "execution_count": 19,
   "source": [
    "x = int(input(\"Enter a number for finding which is prime number:\"))\r\n",
    "asal = (x / 1 == x) and (x / x == 1) and (x / 2 != int())\r\n",
    "print(\"Is\", x, \"prime:\", asal)\r\n"
   ],
   "outputs": [
    {
     "output_type": "stream",
     "name": "stdout",
     "text": [
      "Is 10 prime: True\n"
     ]
    }
   ],
   "metadata": {}
  },
  {
   "cell_type": "code",
   "execution_count": 2,
   "source": [
    "main_display ='##############################\\n\\nClarusway Bank\\'a Hosglediniz\\n\\\r\n",
    "\\n\\n##############################\\n\\nIslemler\\n\\n1-) Bakiye Sorgulama\\n\\n2-) Para Yatirma\\n\\n3-) Para Cekme'\r\n",
    "print(main_display)\r\n",
    "bakiye = 1000\r\n",
    "while True :\r\n",
    "    soru = input('Lütfen yapmak istediginiz islemi tuslayin cikis icin \\'q\\' ya basin ')\r\n",
    "    if soru == 'q':\r\n",
    "        print('bizi tercih ettiginiz icin tesekküre ederiz')\r\n",
    "        break\r\n",
    "    elif soru == '1':\r\n",
    "        print('bakiyeniz {}'.format(bakiye))\r\n",
    "    elif soru =='2':\r\n",
    "        soru_2 = input('Lütfen yatiralacak tutari tuslayin')\r\n",
    "        yeni_bakiye = bakiye + int(soru_2)\r\n",
    "        print('yeni bakiyeniz {}'.format(yeni_bakiye))\r\n",
    "    elif soru == '3':\r\n",
    "        soru_3 = input('Lutfen cekmek istediginiz tutari tuslayin')\r\n",
    "        yeni_bakiye_1 =bakiye - int(soru_3)\r\n",
    "        print('yeni bakiyeniz {}'.format(yeni_bakiye_1))\r\n",
    "    else:\r\n",
    "        print('Yanlis bir giris yaptiniz lütfen tekrar deneyin')"
   ],
   "outputs": [
    {
     "output_type": "stream",
     "name": "stdout",
     "text": [
      "##############################\n",
      "\n",
      "Clarusway Bank'a Hosglediniz\n",
      "\n",
      "\n",
      "##############################\n",
      "\n",
      "Islemler\n",
      "\n",
      "1-) Bakiye Sorgulama\n",
      "\n",
      "2-) Para Yatirma\n",
      "\n",
      "3-) Para Cekme\n",
      "yeni bakiyeniz 2500\n",
      "yeni bakiyeniz 2000\n"
     ]
    },
    {
     "output_type": "error",
     "ename": "KeyboardInterrupt",
     "evalue": "Interrupted by user",
     "traceback": [
      "\u001b[1;31m---------------------------------------------------------------------------\u001b[0m",
      "\u001b[1;31mKeyboardInterrupt\u001b[0m                         Traceback (most recent call last)",
      "\u001b[1;32m~\\AppData\\Local\\Temp/ipykernel_7916/2604973474.py\u001b[0m in \u001b[0;36m<module>\u001b[1;34m\u001b[0m\n\u001b[0;32m      4\u001b[0m \u001b[0mbakiye\u001b[0m \u001b[1;33m=\u001b[0m \u001b[1;36m1000\u001b[0m\u001b[1;33m\u001b[0m\u001b[1;33m\u001b[0m\u001b[0m\n\u001b[0;32m      5\u001b[0m \u001b[1;32mwhile\u001b[0m \u001b[1;32mTrue\u001b[0m \u001b[1;33m:\u001b[0m\u001b[1;33m\u001b[0m\u001b[1;33m\u001b[0m\u001b[0m\n\u001b[1;32m----> 6\u001b[1;33m     \u001b[0msoru\u001b[0m \u001b[1;33m=\u001b[0m \u001b[0minput\u001b[0m\u001b[1;33m(\u001b[0m\u001b[1;34m'Lütfen yapmak istediginiz islemi tuslayin cikis icin \\'q\\' ya basin '\u001b[0m\u001b[1;33m)\u001b[0m\u001b[1;33m\u001b[0m\u001b[1;33m\u001b[0m\u001b[0m\n\u001b[0m\u001b[0;32m      7\u001b[0m     \u001b[1;32mif\u001b[0m \u001b[0msoru\u001b[0m \u001b[1;33m==\u001b[0m \u001b[1;34m'q'\u001b[0m\u001b[1;33m:\u001b[0m\u001b[1;33m\u001b[0m\u001b[1;33m\u001b[0m\u001b[0m\n\u001b[0;32m      8\u001b[0m         \u001b[0mprint\u001b[0m\u001b[1;33m(\u001b[0m\u001b[1;34m'bizi tercih ettiginiz icin tesekküre ederiz'\u001b[0m\u001b[1;33m)\u001b[0m\u001b[1;33m\u001b[0m\u001b[1;33m\u001b[0m\u001b[0m\n",
      "\u001b[1;32m~\\AppData\\Local\\Packages\\PythonSoftwareFoundation.Python.3.9_qbz5n2kfra8p0\\LocalCache\\local-packages\\Python39\\site-packages\\ipykernel\\kernelbase.py\u001b[0m in \u001b[0;36mraw_input\u001b[1;34m(self, prompt)\u001b[0m\n\u001b[0;32m    979\u001b[0m                 \u001b[1;34m\"raw_input was called, but this frontend does not support input requests.\"\u001b[0m\u001b[1;33m\u001b[0m\u001b[1;33m\u001b[0m\u001b[0m\n\u001b[0;32m    980\u001b[0m             )\n\u001b[1;32m--> 981\u001b[1;33m         return self._input_request(\n\u001b[0m\u001b[0;32m    982\u001b[0m             \u001b[0mstr\u001b[0m\u001b[1;33m(\u001b[0m\u001b[0mprompt\u001b[0m\u001b[1;33m)\u001b[0m\u001b[1;33m,\u001b[0m\u001b[1;33m\u001b[0m\u001b[1;33m\u001b[0m\u001b[0m\n\u001b[0;32m    983\u001b[0m             \u001b[0mself\u001b[0m\u001b[1;33m.\u001b[0m\u001b[0m_parent_ident\u001b[0m\u001b[1;33m[\u001b[0m\u001b[1;34m\"shell\"\u001b[0m\u001b[1;33m]\u001b[0m\u001b[1;33m,\u001b[0m\u001b[1;33m\u001b[0m\u001b[1;33m\u001b[0m\u001b[0m\n",
      "\u001b[1;32m~\\AppData\\Local\\Packages\\PythonSoftwareFoundation.Python.3.9_qbz5n2kfra8p0\\LocalCache\\local-packages\\Python39\\site-packages\\ipykernel\\kernelbase.py\u001b[0m in \u001b[0;36m_input_request\u001b[1;34m(self, prompt, ident, parent, password)\u001b[0m\n\u001b[0;32m   1024\u001b[0m             \u001b[1;32mexcept\u001b[0m \u001b[0mKeyboardInterrupt\u001b[0m\u001b[1;33m:\u001b[0m\u001b[1;33m\u001b[0m\u001b[1;33m\u001b[0m\u001b[0m\n\u001b[0;32m   1025\u001b[0m                 \u001b[1;31m# re-raise KeyboardInterrupt, to truncate traceback\u001b[0m\u001b[1;33m\u001b[0m\u001b[1;33m\u001b[0m\u001b[1;33m\u001b[0m\u001b[0m\n\u001b[1;32m-> 1026\u001b[1;33m                 \u001b[1;32mraise\u001b[0m \u001b[0mKeyboardInterrupt\u001b[0m\u001b[1;33m(\u001b[0m\u001b[1;34m\"Interrupted by user\"\u001b[0m\u001b[1;33m)\u001b[0m \u001b[1;32mfrom\u001b[0m \u001b[1;32mNone\u001b[0m\u001b[1;33m\u001b[0m\u001b[1;33m\u001b[0m\u001b[0m\n\u001b[0m\u001b[0;32m   1027\u001b[0m             \u001b[1;32mexcept\u001b[0m \u001b[0mException\u001b[0m\u001b[1;33m:\u001b[0m\u001b[1;33m\u001b[0m\u001b[1;33m\u001b[0m\u001b[0m\n\u001b[0;32m   1028\u001b[0m                 \u001b[0mself\u001b[0m\u001b[1;33m.\u001b[0m\u001b[0mlog\u001b[0m\u001b[1;33m.\u001b[0m\u001b[0mwarning\u001b[0m\u001b[1;33m(\u001b[0m\u001b[1;34m\"Invalid Message:\"\u001b[0m\u001b[1;33m,\u001b[0m \u001b[0mexc_info\u001b[0m\u001b[1;33m=\u001b[0m\u001b[1;32mTrue\u001b[0m\u001b[1;33m)\u001b[0m\u001b[1;33m\u001b[0m\u001b[1;33m\u001b[0m\u001b[0m\n",
      "\u001b[1;31mKeyboardInterrupt\u001b[0m: Interrupted by user"
     ]
    }
   ],
   "metadata": {}
  }
 ],
 "metadata": {
  "orig_nbformat": 4,
  "language_info": {
   "name": "python",
   "version": "3.9.6",
   "mimetype": "text/x-python",
   "codemirror_mode": {
    "name": "ipython",
    "version": 3
   },
   "pygments_lexer": "ipython3",
   "nbconvert_exporter": "python",
   "file_extension": ".py"
  },
  "kernelspec": {
   "name": "python3",
   "display_name": "Python 3.9.6 64-bit (windows store)"
  },
  "interpreter": {
   "hash": "91e309b0d6f9bd13113d0dab55954c7a828cac190944509a12384aacede56c3d"
  }
 },
 "nbformat": 4,
 "nbformat_minor": 2
}