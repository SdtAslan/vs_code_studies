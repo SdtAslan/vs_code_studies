{
 "cells": [
  {
   "cell_type": "code",
   "execution_count": 56,
   "source": [
    "fibonacci = []\r\n",
    "x = 0\r\n",
    "y = 1\r\n",
    "while y <= 55:                     \r\n",
    "    x, y = y, x+y\r\n",
    "\r\n",
    "    fibonacci.append(x)\r\n",
    "print(fibonacci)"
   ],
   "outputs": [
    {
     "output_type": "stream",
     "name": "stdout",
     "text": [
      "[1, 1, 2, 3, 5, 8, 13, 21, 34, 55]\n"
     ]
    }
   ],
   "metadata": {}
  }
 ],
 "metadata": {
  "orig_nbformat": 4,
  "language_info": {
   "name": "python",
   "version": "3.9.6",
   "mimetype": "text/x-python",
   "codemirror_mode": {
    "name": "ipython",
    "version": 3
   },
   "pygments_lexer": "ipython3",
   "nbconvert_exporter": "python",
   "file_extension": ".py"
  },
  "kernelspec": {
   "name": "python3",
   "display_name": "Python 3.9.6 64-bit (windows store)"
  },
  "interpreter": {
   "hash": "91e309b0d6f9bd13113d0dab55954c7a828cac190944509a12384aacede56c3d"
  }
 },
 "nbformat": 4,
 "nbformat_minor": 2
}