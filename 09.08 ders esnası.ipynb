{
 "cells": [
  {
   "cell_type": "code",
   "execution_count": 3,
   "source": [
    "print((lambda x: 'odd' if x % 2 != 0 else 'even')(5))\r\n"
   ],
   "outputs": [
    {
     "output_type": "stream",
     "name": "stdout",
     "text": [
      "odd\n"
     ]
    }
   ],
   "metadata": {}
  },
  {
   "cell_type": "code",
   "execution_count": 6,
   "source": [
    "def brothers(bro1, bro2, bro3):\r\n",
    "    print('Here are the names of brothers :')\r\n",
    "    print(bro1, bro2, bro3, sep='\\n')"
   ],
   "outputs": [],
   "metadata": {}
  },
  {
   "cell_type": "code",
   "execution_count": 7,
   "source": [
    "brothers(\"a\",\"b\",\"c\")"
   ],
   "outputs": [
    {
     "output_type": "stream",
     "name": "stdout",
     "text": [
      "Here are the names of brothers :\n",
      "a\n",
      "b\n",
      "c\n"
     ]
    }
   ],
   "metadata": {}
  },
  {
   "cell_type": "code",
   "execution_count": 13,
   "source": [
    "cümle = \"bazen olmasaydı olanlar\"\r\n"
   ],
   "outputs": [],
   "metadata": {}
  },
  {
   "cell_type": "code",
   "execution_count": 10,
   "source": [
    "def voweler(letter) :\r\n",
    "    vowels = [\"a\",\"e\",\"i\",\"ı\",\"u\",\"ü\",\"ö\",\"o\"]\r\n",
    "    if letter.lower() in vowels :\r\n",
    "        return True\r\n",
    "    else:\r\n",
    "        return False"
   ],
   "outputs": [],
   "metadata": {}
  },
  {
   "cell_type": "code",
   "execution_count": 14,
   "source": [
    "filtered_vowels = filter(voweler, cümle)"
   ],
   "outputs": [],
   "metadata": {}
  },
  {
   "cell_type": "code",
   "execution_count": 15,
   "source": [
    "list(filtered_vowels)"
   ],
   "outputs": [
    {
     "output_type": "execute_result",
     "data": {
      "text/plain": [
       "['a', 'e', 'o', 'a', 'a', 'ı', 'o', 'a', 'a']"
      ]
     },
     "metadata": {},
     "execution_count": 15
    }
   ],
   "metadata": {}
  },
  {
   "cell_type": "code",
   "execution_count": 27,
   "source": [
    "def merger(a,b,c,d) :\r\n",
    "    a =f\"For me, {a} {d} and {c} {b} are genius\"\r\n",
    "    return a\r\n",
    "genius = [\"Bill\", \"Rossum\", \"Guido van\", \"Gates\"]\r\n",
    "merger(*genius)"
   ],
   "outputs": [
    {
     "output_type": "execute_result",
     "data": {
      "text/plain": [
       "'For me, Bill Gates and Guido van Rossum are genius'"
      ]
     },
     "metadata": {},
     "execution_count": 27
    }
   ],
   "metadata": {}
  },
  {
   "cell_type": "code",
   "execution_count": 35,
   "source": [
    "def gene(x = \"Solomon\",y = \"David\") :\r\n",
    "    print(x, \"belongs to Generation X\")\r\n",
    "    print(y, \"belongs to Generation Y\")\r\n",
    "dict_gene = {\"y\" : \"marry\", \"x\" : \"Fred\"}\r\n",
    "gene(** dict_gene)\r\n"
   ],
   "outputs": [
    {
     "output_type": "stream",
     "name": "stdout",
     "text": [
      "Fred belongs to Generation X\n",
      "marry belongs to Generation Y\n"
     ]
    }
   ],
   "metadata": {}
  },
  {
   "cell_type": "code",
   "execution_count": 41,
   "source": [
    "def gene(x = \"Solomon\", y = \"David\"):\r\n",
    "    print(x, \"belongs to Generation X\")\r\n",
    "    print(y, \"belongs to Generation Y\")\r\n",
    "dit_gene = {\"x\" : \"Marry\", \"y\" : \"Fred\"}\r\n",
    "print(gene(** dit_gene))"
   ],
   "outputs": [
    {
     "output_type": "stream",
     "name": "stdout",
     "text": [
      "Marry belongs to Generation X\n",
      "Fred belongs to Generation Y\n",
      "None\n"
     ]
    }
   ],
   "metadata": {}
  },
  {
   "cell_type": "code",
   "execution_count": 42,
   "source": [
    "def gene(x = \"Solomon\", y = \"David\"):\r\n",
    "    print(x, \"belongs to Generation X\")\r\n",
    "    print(y, \"belongs to Generation Y\")\r\n",
    "dit_gene = {\"x\" : \"Marry\", \"y\" : \"Fred\"}\r\n",
    "print(gene(** dit_gene))"
   ],
   "outputs": [
    {
     "output_type": "stream",
     "name": "stdout",
     "text": [
      "Marry belongs to Generation X\n",
      "Fred belongs to Generation Y\n",
      "None\n"
     ]
    }
   ],
   "metadata": {}
  },
  {
   "cell_type": "code",
   "execution_count": 45,
   "source": [
    "dict_couple = {\"bride\" : [\"mary\", \"bella\", \"linda\", \"emma\"],\r\n",
    "                \"groom\" : [\"jack\", \"robert\", \"eric\", \"adam\"]}\r\n",
    "def muruvvet(bride,groom) :\r\n",
    "    couple_list = []\r\n",
    "    for x in zip(bride,groom):\r\n",
    "        couple_list.append(x)\r\n",
    "    return couple_list\r\n",
    "print(muruvvet(**dict_couple))\r\n",
    "    \r\n"
   ],
   "outputs": [
    {
     "output_type": "stream",
     "name": "stdout",
     "text": [
      "[('mary', 'jack'), ('bella', 'robert'), ('linda', 'eric'), ('emma', 'adam')]\n"
     ]
    }
   ],
   "metadata": {}
  },
  {
   "cell_type": "code",
   "execution_count": null,
   "source": [
    "dict_couple = {\"bride\" : [\"mary\", \"bella\", \"linda\", \"emma\"],\r\n",
    "                \"groom\" : [\"jack\", \"robert\", \"eric\", \"adam\"]}\r\n",
    "def muruvvet(bride,groom) :\r\n",
    "    couple_list = []\r\n",
    "    for x in zip(bride,groom):\r\n",
    "        couple_list.append(x)\r\n",
    "    return (couple_list for x in zip(bride,groom) couple_list.append(x))\r\n",
    "print(muruvvet(**dict_couple))"
   ],
   "outputs": [],
   "metadata": {}
  },
  {
   "cell_type": "code",
   "execution_count": 60,
   "source": [
    "dict_couple = {\"bride\" : [\"mary\", \"bella\", \"linda\", \"emma\"],\r\n",
    "                \"groom\" : [\"jack\", \"robert\", \"eric\", \"adam\"]}\r\n",
    "\r\n",
    "def muruvvet_2(bride,groom) :\r\n",
    "     return [x for x in zip(bride,groom)]\r\n",
    "print(muruvvet_2(**dict_couple))"
   ],
   "outputs": [
    {
     "output_type": "stream",
     "name": "stdout",
     "text": [
      "[('mary', 'jack'), ('bella', 'robert'), ('linda', 'eric'), ('emma', 'adam')]\n"
     ]
    }
   ],
   "metadata": {}
  },
  {
   "cell_type": "code",
   "execution_count": 84,
   "source": [
    "friends = {\"bean\": 30, \"enzo\" : 29, \"murat\": 35}\r\n",
    "def meaner(x):\r\n",
    "    print(x)\r\n",
    "    a = 0\r\n",
    "    for key,values in friends.items:\r\n",
    "        a += values\r\n",
    "    return a / len(friends)\r\n",
    "meaner(friends)\r\n"
   ],
   "outputs": [
    {
     "output_type": "stream",
     "name": "stdout",
     "text": [
      "{'bean': 30, 'enzo': 29, 'murat': 35}\n"
     ]
    },
    {
     "output_type": "error",
     "ename": "TypeError",
     "evalue": "'builtin_function_or_method' object is not iterable",
     "traceback": [
      "\u001b[1;31m---------------------------------------------------------------------------\u001b[0m",
      "\u001b[1;31mTypeError\u001b[0m                                 Traceback (most recent call last)",
      "\u001b[1;32m~\\AppData\\Local\\Temp/ipykernel_9520/316782058.py\u001b[0m in \u001b[0;36m<module>\u001b[1;34m\u001b[0m\n\u001b[0;32m      6\u001b[0m         \u001b[0ma\u001b[0m \u001b[1;33m+=\u001b[0m \u001b[0mvalues\u001b[0m\u001b[1;33m\u001b[0m\u001b[1;33m\u001b[0m\u001b[0m\n\u001b[0;32m      7\u001b[0m     \u001b[1;32mreturn\u001b[0m \u001b[0ma\u001b[0m \u001b[1;33m/\u001b[0m \u001b[0mlen\u001b[0m\u001b[1;33m(\u001b[0m\u001b[0mfriends\u001b[0m\u001b[1;33m)\u001b[0m\u001b[1;33m\u001b[0m\u001b[1;33m\u001b[0m\u001b[0m\n\u001b[1;32m----> 8\u001b[1;33m \u001b[0mmeaner\u001b[0m\u001b[1;33m(\u001b[0m\u001b[0mfriends\u001b[0m\u001b[1;33m)\u001b[0m\u001b[1;33m\u001b[0m\u001b[1;33m\u001b[0m\u001b[0m\n\u001b[0m",
      "\u001b[1;32m~\\AppData\\Local\\Temp/ipykernel_9520/316782058.py\u001b[0m in \u001b[0;36mmeaner\u001b[1;34m(x)\u001b[0m\n\u001b[0;32m      3\u001b[0m     \u001b[0mprint\u001b[0m\u001b[1;33m(\u001b[0m\u001b[0mx\u001b[0m\u001b[1;33m)\u001b[0m\u001b[1;33m\u001b[0m\u001b[1;33m\u001b[0m\u001b[0m\n\u001b[0;32m      4\u001b[0m     \u001b[0ma\u001b[0m \u001b[1;33m=\u001b[0m \u001b[1;36m0\u001b[0m\u001b[1;33m\u001b[0m\u001b[1;33m\u001b[0m\u001b[0m\n\u001b[1;32m----> 5\u001b[1;33m     \u001b[1;32mfor\u001b[0m \u001b[0mkey\u001b[0m\u001b[1;33m,\u001b[0m\u001b[0mvalues\u001b[0m \u001b[1;32min\u001b[0m \u001b[0mfriends\u001b[0m\u001b[1;33m.\u001b[0m\u001b[0mitems\u001b[0m\u001b[1;33m:\u001b[0m\u001b[1;33m\u001b[0m\u001b[1;33m\u001b[0m\u001b[0m\n\u001b[0m\u001b[0;32m      6\u001b[0m         \u001b[0ma\u001b[0m \u001b[1;33m+=\u001b[0m \u001b[0mvalues\u001b[0m\u001b[1;33m\u001b[0m\u001b[1;33m\u001b[0m\u001b[0m\n\u001b[0;32m      7\u001b[0m     \u001b[1;32mreturn\u001b[0m \u001b[0ma\u001b[0m \u001b[1;33m/\u001b[0m \u001b[0mlen\u001b[0m\u001b[1;33m(\u001b[0m\u001b[0mfriends\u001b[0m\u001b[1;33m)\u001b[0m\u001b[1;33m\u001b[0m\u001b[1;33m\u001b[0m\u001b[0m\n",
      "\u001b[1;31mTypeError\u001b[0m: 'builtin_function_or_method' object is not iterable"
     ]
    }
   ],
   "metadata": {}
  },
  {
   "cell_type": "code",
   "execution_count": 85,
   "source": [
    "friends = {\"Alpha\": 33, \"Beta\" : 43, \"Gamma\" : 53}\r\n",
    "def meaner(x):\r\n",
    "    print(x)\r\n",
    "    median = 0\r\n",
    "    for key, values in friends.items():\r\n",
    "        median +=  values\r\n",
    "    return median/len(friends)\r\n",
    "meaner(friends)"
   ],
   "outputs": [
    {
     "output_type": "stream",
     "name": "stdout",
     "text": [
      "{'Alpha': 33, 'Beta': 43, 'Gamma': 53}\n"
     ]
    },
    {
     "output_type": "execute_result",
     "data": {
      "text/plain": [
       "43.0"
      ]
     },
     "metadata": {},
     "execution_count": 85
    }
   ],
   "metadata": {}
  }
 ],
 "metadata": {
  "orig_nbformat": 4,
  "language_info": {
   "name": "python",
   "version": "3.9.6",
   "mimetype": "text/x-python",
   "codemirror_mode": {
    "name": "ipython",
    "version": 3
   },
   "pygments_lexer": "ipython3",
   "nbconvert_exporter": "python",
   "file_extension": ".py"
  },
  "kernelspec": {
   "name": "python3",
   "display_name": "Python 3.9.6 64-bit (windows store)"
  },
  "interpreter": {
   "hash": "91e309b0d6f9bd13113d0dab55954c7a828cac190944509a12384aacede56c3d"
  }
 },
 "nbformat": 4,
 "nbformat_minor": 2
}