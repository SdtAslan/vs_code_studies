{
 "cells": [
  {
   "cell_type": "code",
   "execution_count": 5,
   "source": [
    "def rich_number(sayı):\r\n",
    "    rich_number_list = []\r\n",
    "    k = 1\r\n",
    "    while k <= sayı :\r\n",
    "        tam_bölenler = []\r\n",
    "        for i in range(1,k) :\r\n",
    "            if k % i == 0:\r\n",
    "                tam_bölenler.append(i)\r\n",
    "        if sum(tam_bölenler) > k:\r\n",
    "            rich_number_list.append(k)\r\n",
    "        k += 1\r\n",
    "    for i in rich_number_list:\r\n",
    "        if i % 2:\r\n",
    "            return i       \r\n",
    "print(rich_number(2500))"
   ],
   "outputs": [
    {
     "output_type": "stream",
     "name": "stdout",
     "text": [
      "945\n"
     ]
    }
   ],
   "metadata": {}
  }
 ],
 "metadata": {
  "orig_nbformat": 4,
  "language_info": {
   "name": "python",
   "version": "3.9.6",
   "mimetype": "text/x-python",
   "codemirror_mode": {
    "name": "ipython",
    "version": 3
   },
   "pygments_lexer": "ipython3",
   "nbconvert_exporter": "python",
   "file_extension": ".py"
  },
  "kernelspec": {
   "name": "python3",
   "display_name": "Python 3.9.6 64-bit (windows store)"
  },
  "interpreter": {
   "hash": "91e309b0d6f9bd13113d0dab55954c7a828cac190944509a12384aacede56c3d"
  }
 },
 "nbformat": 4,
 "nbformat_minor": 2
}