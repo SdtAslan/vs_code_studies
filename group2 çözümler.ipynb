{
 "cells": [
  {
   "cell_type": "code",
   "execution_count": 9,
   "source": [
    "x = input( \"Enter a word: \")\r\n",
    "alphabet_lower = [chr(i) for i in range(97, 123)]\r\n",
    "alphabet_lower.append(\" \")\r\n",
    "\r\n",
    "count = 0\r\n",
    "count1 = 0\r\n",
    "for i in x:\r\n",
    "    if i in alphabet_lower:\r\n",
    "        count += 1\r\n",
    "    else:\r\n",
    "        count1 += 1\r\n",
    "if count == 0 and count1 > 0:\r\n",
    "    result = True\r\n",
    "elif count > 0 and count1 == 0:\r\n",
    "    result = True\r\n",
    "else:\r\n",
    "    result = False\r\n",
    "print(result)\r\n",
    "\r\n"
   ],
   "outputs": [
    {
     "output_type": "stream",
     "name": "stdout",
     "text": [
      "True\n"
     ]
    }
   ],
   "metadata": {}
  }
 ],
 "metadata": {
  "orig_nbformat": 4,
  "language_info": {
   "name": "python",
   "version": "3.9.6",
   "mimetype": "text/x-python",
   "codemirror_mode": {
    "name": "ipython",
    "version": 3
   },
   "pygments_lexer": "ipython3",
   "nbconvert_exporter": "python",
   "file_extension": ".py"
  },
  "kernelspec": {
   "name": "python3",
   "display_name": "Python 3.9.6 64-bit (windows store)"
  },
  "interpreter": {
   "hash": "91e309b0d6f9bd13113d0dab55954c7a828cac190944509a12384aacede56c3d"
  }
 },
 "nbformat": 4,
 "nbformat_minor": 2
}