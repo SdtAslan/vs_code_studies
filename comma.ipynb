{
 "cells": [
  {
   "cell_type": "markdown",
   "source": [
    "benim çözümüm"
   ],
   "metadata": {}
  },
  {
   "cell_type": "code",
   "execution_count": 21,
   "source": [
    "def comma(string):\r\n",
    "    liste = string.split(\",\")\r\n",
    "    liste1 = []\r\n",
    "    for i in liste:\r\n",
    "        liste1.append(i.lower())\r\n",
    "    return sorted(liste1)\r\n",
    "comma(\"steive,dustin,Bean,Enzo,murat,adsum,muhammet,burak\")"
   ],
   "outputs": [
    {
     "output_type": "execute_result",
     "data": {
      "text/plain": [
       "['adsum', 'bean', 'burak', 'dustin', 'enzo', 'muhammet', 'murat', 'steive']"
      ]
     },
     "metadata": {},
     "execution_count": 21
    }
   ],
   "metadata": {}
  },
  {
   "cell_type": "markdown",
   "source": [
    "mehmet'in çözümü"
   ],
   "metadata": {}
  },
  {
   "cell_type": "code",
   "execution_count": 3,
   "source": [
    "def ayır(words):\r\n",
    "    return sorted([i.lower() for i in words.split(\",\")])\r\n",
    "ayır(\"Atiyi,karanlık,görerek,azmi,bırakmak\")"
   ],
   "outputs": [
    {
     "output_type": "execute_result",
     "data": {
      "text/plain": [
       "['atiyi', 'azmi', 'bırakmak', 'görerek', 'karanlık']"
      ]
     },
     "metadata": {},
     "execution_count": 3
    }
   ],
   "metadata": {}
  }
 ],
 "metadata": {
  "orig_nbformat": 4,
  "language_info": {
   "name": "python",
   "version": "3.9.7",
   "mimetype": "text/x-python",
   "codemirror_mode": {
    "name": "ipython",
    "version": 3
   },
   "pygments_lexer": "ipython3",
   "nbconvert_exporter": "python",
   "file_extension": ".py"
  },
  "kernelspec": {
   "name": "python3",
   "display_name": "Python 3.9.6 64-bit (windows store)"
  },
  "interpreter": {
   "hash": "91e309b0d6f9bd13113d0dab55954c7a828cac190944509a12384aacede56c3d"
  }
 },
 "nbformat": 4,
 "nbformat_minor": 2
}