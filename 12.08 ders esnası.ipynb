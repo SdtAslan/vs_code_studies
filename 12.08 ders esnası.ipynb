{
 "cells": [
  {
   "cell_type": "code",
   "execution_count": 1,
   "source": [
    "print((lambda x : x[::-1])(\"clarusway\"))"
   ],
   "outputs": [
    {
     "output_type": "stream",
     "name": "stdout",
     "text": [
      "yawsuralc\n"
     ]
    }
   ],
   "metadata": {}
  },
  {
   "cell_type": "code",
   "execution_count": 5,
   "source": [
    "for x in [1,2,3,4]:\r\n",
    "    print((lambda x: 'odd' if x % 2 else 'even')(x))\r\n",
    " "
   ],
   "outputs": [
    {
     "output_type": "stream",
     "name": "stdout",
     "text": [
      "odd\n",
      "even\n",
      "odd\n",
      "even\n"
     ]
    }
   ],
   "metadata": {}
  },
  {
   "cell_type": "code",
   "execution_count": 12,
   "source": [
    "average = (lambda x: 'odd' if x % 2 else 'even')\r\n",
    "for x in [1,2,3,4,5,6,7,8,9]:\r\n",
    "    print(x,\"is :\",average(x))"
   ],
   "outputs": [
    {
     "output_type": "stream",
     "name": "stdout",
     "text": [
      "1 is : odd\n",
      "2 is : even\n",
      "3 is : odd\n",
      "4 is : even\n",
      "5 is : odd\n",
      "6 is : even\n",
      "7 is : odd\n",
      "8 is : even\n",
      "9 is : odd\n"
     ]
    }
   ],
   "metadata": {}
  },
  {
   "cell_type": "code",
   "execution_count": 11,
   "source": [
    "reverser = (lambda x : x[::-1])\r\n",
    "print(reverser(\"mrbean\"))"
   ],
   "outputs": [
    {
     "output_type": "stream",
     "name": "stdout",
     "text": [
      "naebrm\n"
     ]
    }
   ],
   "metadata": {}
  },
  {
   "cell_type": "code",
   "execution_count": 22,
   "source": [
    "average = (lambda x: 'odd' if x % 2 else 'even')\r\n",
    "print(tuple(map(lambda x: 'odd' if x % 2 else 'even',[1,2,3])))"
   ],
   "outputs": [
    {
     "output_type": "stream",
     "name": "stdout",
     "text": [
      "('odd', 'even', 'odd')\n"
     ]
    }
   ],
   "metadata": {}
  },
  {
   "cell_type": "code",
   "execution_count": 27,
   "source": [
    "def square(x):\r\n",
    "    return x ** 2\r\n",
    "print(list(map(square,[1,2,3])))"
   ],
   "outputs": [
    {
     "output_type": "stream",
     "name": "stdout",
     "text": [
      "[1, 4, 9]\n"
     ]
    }
   ],
   "metadata": {}
  },
  {
   "cell_type": "code",
   "execution_count": 31,
   "source": [
    "letter1 = ['o', 's', 't', ]\r\n",
    "letter2 = ['n', 'i', 'e', 'w']\r\n",
    "letter3 = ['e', 'o']\r\n",
    "numbers = map(lambda x, y, z: x+y+z, letter1, letter2, letter3)\r\n",
    "print(list(numbers))"
   ],
   "outputs": [
    {
     "output_type": "stream",
     "name": "stdout",
     "text": [
      "['one', 'sio']\n"
     ]
    }
   ],
   "metadata": {}
  },
  {
   "cell_type": "code",
   "execution_count": 32,
   "source": [
    "list1 = [3,5,9,11]\r\n",
    "list2 = [4,6,9,13]\r\n",
    "ort = map(lambda x,y : (x + y) / 2, list1,list2) \r\n",
    "print(list(ort))"
   ],
   "outputs": [
    {
     "output_type": "stream",
     "name": "stdout",
     "text": [
      "[3.5, 5.5, 9.0, 12.0]\n"
     ]
    }
   ],
   "metadata": {}
  },
  {
   "cell_type": "code",
   "execution_count": 34,
   "source": [
    "kelimeler = [\"ali veli deli\", \"mehmet ağanın kuzeni\", \"cemilin-bacısı\"]\r\n",
    "len_ = map(len, kelimeler)\r\n",
    "print(list(len_))"
   ],
   "outputs": [
    {
     "output_type": "stream",
     "name": "stdout",
     "text": [
      "[13, 20, 14]\n"
     ]
    }
   ],
   "metadata": {}
  },
  {
   "cell_type": "code",
   "execution_count": 35,
   "source": [
    "kelimeler = [\"ali veli deli\", \"mehmet ağanın kuzeni\", \"cemilin-bacısı\"]\r\n",
    "len_ = map(sorted, kelimeler)\r\n",
    "print(list(len_))"
   ],
   "outputs": [
    {
     "output_type": "stream",
     "name": "stdout",
     "text": [
      "[[' ', ' ', 'a', 'd', 'e', 'e', 'i', 'i', 'i', 'l', 'l', 'l', 'v'], [' ', ' ', 'a', 'a', 'e', 'e', 'e', 'h', 'i', 'k', 'm', 'm', 'n', 'n', 'n', 't', 'u', 'z', 'ğ', 'ı'], ['-', 'a', 'b', 'c', 'c', 'e', 'i', 'i', 'l', 'm', 'n', 's', 'ı', 'ı']]\n"
     ]
    }
   ],
   "metadata": {}
  },
  {
   "cell_type": "code",
   "execution_count": 39,
   "source": [
    "word1 = [\"you\", \"much\",\"hard\"]\r\n",
    "word2 = [\"i\", \"you\",\"he\"]\r\n",
    "word3 = [\"love\", \"ate\",\"works\"]\r\n",
    "sentence = map(lambda x, y, z: x+\" \"+y+\" \"+z, word2, word3, word1)\r\n",
    "print(list(sentence))"
   ],
   "outputs": [
    {
     "output_type": "stream",
     "name": "stdout",
     "text": [
      "['i love you', 'you ate much', 'he works hard']\n"
     ]
    }
   ],
   "metadata": {}
  },
  {
   "cell_type": "code",
   "execution_count": 47,
   "source": [
    "words = [\"apple\", \"swim\", \"clock\", \"me\", \"kiwi\", \"banana\"]\r\n",
    "list(filter(len < 5, words)) \r\n"
   ],
   "outputs": [
    {
     "output_type": "error",
     "ename": "TypeError",
     "evalue": "'<' not supported between instances of 'builtin_function_or_method' and 'int'",
     "traceback": [
      "\u001b[1;31m---------------------------------------------------------------------------\u001b[0m",
      "\u001b[1;31mTypeError\u001b[0m                                 Traceback (most recent call last)",
      "\u001b[1;32m~\\AppData\\Local\\Temp/ipykernel_2212/3056492107.py\u001b[0m in \u001b[0;36m<module>\u001b[1;34m\u001b[0m\n\u001b[0;32m      1\u001b[0m \u001b[0mwords\u001b[0m \u001b[1;33m=\u001b[0m \u001b[1;33m[\u001b[0m\u001b[1;34m\"apple\"\u001b[0m\u001b[1;33m,\u001b[0m \u001b[1;34m\"swim\"\u001b[0m\u001b[1;33m,\u001b[0m \u001b[1;34m\"clock\"\u001b[0m\u001b[1;33m,\u001b[0m \u001b[1;34m\"me\"\u001b[0m\u001b[1;33m,\u001b[0m \u001b[1;34m\"kiwi\"\u001b[0m\u001b[1;33m,\u001b[0m \u001b[1;34m\"banana\"\u001b[0m\u001b[1;33m]\u001b[0m\u001b[1;33m\u001b[0m\u001b[1;33m\u001b[0m\u001b[0m\n\u001b[1;32m----> 2\u001b[1;33m \u001b[0mlist\u001b[0m\u001b[1;33m(\u001b[0m\u001b[0mfilter\u001b[0m\u001b[1;33m(\u001b[0m\u001b[0mlen\u001b[0m \u001b[1;33m<\u001b[0m \u001b[1;36m5\u001b[0m\u001b[1;33m,\u001b[0m \u001b[0mwords\u001b[0m\u001b[1;33m)\u001b[0m\u001b[1;33m)\u001b[0m\u001b[1;33m\u001b[0m\u001b[1;33m\u001b[0m\u001b[0m\n\u001b[0m",
      "\u001b[1;31mTypeError\u001b[0m: '<' not supported between instances of 'builtin_function_or_method' and 'int'"
     ]
    }
   ],
   "metadata": {}
  },
  {
   "cell_type": "code",
   "execution_count": 50,
   "source": [
    "first_ten = ['a', 'b', 'c', 'd', 'e', 'f', 'g', 'h', 'i', 'j']\r\n",
    "vowels = \"aeiüö\"\r\n",
    "filtered_vowels = filter(lambda x: x in vowels, first_ten)\r\n",
    "print(* filtered_vowels)"
   ],
   "outputs": [
    {
     "output_type": "stream",
     "name": "stdout",
     "text": [
      "a e i\n"
     ]
    }
   ],
   "metadata": {}
  },
  {
   "cell_type": "markdown",
   "source": [
    "robojos"
   ],
   "metadata": {}
  },
  {
   "cell_type": "code",
   "execution_count": null,
   "source": [
    "commands = [\"right 20\", \"right 30\", \"left 50\", \"down 20\"]"
   ],
   "outputs": [],
   "metadata": {}
  },
  {
   "cell_type": "code",
   "execution_count": null,
   "source": [
    "if r > 0:\r\n",
    "    countx += r\r\n",
    "elif r < 0 "
   ],
   "outputs": [],
   "metadata": {}
  },
  {
   "cell_type": "code",
   "execution_count": 54,
   "source": [
    "C = [\"right 20\", \"right 20\", \"left 50\", \"down 20\"]\r\n",
    "x = y = 0\r\n",
    "\r\n",
    "for i in range(len(C)) :\r\n",
    "    if C[i].startswith(\"r\") : x = x + int(C[i].split()[1])\r\n",
    "    elif C[i].startswith(\"l\") : x = x - int(C[i].split()[1])\r\n",
    "    elif C[i].startswith(\"u\") : y = y + int(C[i].split()[1])\r\n",
    "    elif C[i].startswith(\"d\") : y = y - int(C[i].split()[1])\r\n",
    "x = 0 - x #geri dönüş\r\n",
    "y = 0 - y        \r\n",
    "[x, y]"
   ],
   "outputs": [
    {
     "output_type": "execute_result",
     "data": {
      "text/plain": [
       "[10, 20]"
      ]
     },
     "metadata": {},
     "execution_count": 54
    }
   ],
   "metadata": {}
  }
 ],
 "metadata": {
  "orig_nbformat": 4,
  "language_info": {
   "name": "python",
   "version": "3.9.6",
   "mimetype": "text/x-python",
   "codemirror_mode": {
    "name": "ipython",
    "version": 3
   },
   "pygments_lexer": "ipython3",
   "nbconvert_exporter": "python",
   "file_extension": ".py"
  },
  "kernelspec": {
   "name": "python3",
   "display_name": "Python 3.9.6 64-bit (windows store)"
  },
  "interpreter": {
   "hash": "91e309b0d6f9bd13113d0dab55954c7a828cac190944509a12384aacede56c3d"
  }
 },
 "nbformat": 4,
 "nbformat_minor": 2
}