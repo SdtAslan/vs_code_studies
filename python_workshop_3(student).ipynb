{
  "nbformat": 4,
  "nbformat_minor": 2,
  "metadata": {
    "kernelspec": {
      "name": "python3",
      "display_name": "Python 3.9.6 64-bit (windows store)"
    },
    "language_info": {
      "codemirror_mode": {
        "name": "ipython",
        "version": 3
      },
      "file_extension": ".py",
      "mimetype": "text/x-python",
      "name": "python",
      "nbconvert_exporter": "python",
      "pygments_lexer": "ipython3",
      "version": "3.9.6"
    },
    "colab": {
      "name": "python-workshop-3(student).ipynb",
      "provenance": []
    },
    "interpreter": {
      "hash": "91e309b0d6f9bd13113d0dab55954c7a828cac190944509a12384aacede56c3d"
    }
  },
  "cells": [
    {
      "cell_type": "markdown",
      "source": [
        "<center><img src=\"https://github.com/aaron-clarusway/fullstack/blob/master/itf-logo.png?raw=true\"  alt=\"alt text\" width=\"200\"/></center>\n",
        "<br>\n",
        "<h1><p style=\"text-align: center; color:darkblue\">Python Basic</p><h1>\n",
        "<center><h1>Workshop - 2</h1></center>\n",
        "<p><img align=\"right\"\n",
        "  src=\"https://secure.meetupstatic.com/photos/event/3/1/b/9/600_488352729.jpeg\"  width=\"15px\"></p>\n",
        "<br>\n",
        "\n",
        "\n",
        "# Subject: Collections - Control Flow Statements"
      ],
      "metadata": {
        "id": "klUrHqsAI58a"
      }
    },
    {
      "cell_type": "markdown",
      "source": [
        "## Coding Challenge-1 : Find the Largest Number\r\n",
        "\r\n",
        "Purpose of the this coding challenge is to solve a simple sorting problem in Python.\r\n",
        "\r\n",
        "### Learning Outcomes\r\n",
        "\r\n",
        "At the end of the this coding challenge, students will be able to;\r\n",
        "\r\n",
        "- get a basic understanding of sorting algorithms.\r\n",
        "- demonstrate their knowledge of lists in python\r\n",
        "- implement loops to solve the problems in python\r\n",
        "- get a better understanding of computational thinking concepts\r\n",
        "\r\n",
        "### Problem Statement\r\n",
        "  \r\n",
        "- Write a python code that finds the largest number among the ``n`` numbers given by the user as input.\r\n",
        "\r\n",
        "- First, take `n` from the user, then take `n` numbers one by one and select-print the largest one.\r\n",
        "\r\n",
        "- It is forbidden to use ``max()`` function.  \r\n",
        "\r\n",
        "- Indicate which computational thinking concepts have you used.\r\n",
        "\r\n",
        "- Example for user inputs and respective outputs\r\n",
        "\r\n",
        "```text\r\n",
        "Input                Output\r\n",
        "---------------:     -------------------------:\r\n",
        "n = 5, 1 2 3 4 5     The largest number is:  5\r\n",
        "n = 3, 67 85 19      The largest number is:  85\r\n",
        "```"
      ],
      "metadata": {}
    },
    {
      "cell_type": "markdown",
      "source": [
        "### Solution :"
      ],
      "metadata": {
        "id": "1r2fo3l7I58q"
      }
    },
    {
      "cell_type": "code",
      "execution_count": 2,
      "source": [
        "x = int(input(\"How many numbers will you enter?\"))\r\n",
        "i = 0\r\n",
        "sayılar_listesi = []\r\n",
        "while i < x:\r\n",
        "    y = int(input(\"Please enter a number: \"))\r\n",
        "    print(\"Please enter a number: \",y)\r\n",
        "    sayılar_listesi.append(y)\r\n",
        "    i += 1\r\n",
        "a = -2 ** 31\r\n",
        "for j in sayılar_listesi:\r\n",
        "    if j > a:\r\n",
        "        a = j\r\n",
        "print(\"The largest number in this list\",sayılar_listesi,\"is: \",a)\r\n"
      ],
      "outputs": [
        {
          "output_type": "stream",
          "name": "stdout",
          "text": [
            "Please enter a number:  1\n",
            "Please enter a number:  4\n",
            "Please enter a number:  5\n",
            "Please enter a number:  8\n",
            "Please enter a number:  9\n",
            "The largest number in this list [1, 4, 5, 8, 9] is:  9\n"
          ]
        }
      ],
      "metadata": {
        "id": "jSuMMhC6I58s",
        "outputId": "41fa257b-58d9-4ab4-d125-7bba2670d207"
      }
    },
    {
      "cell_type": "markdown",
      "source": [
        "## Coding Challenge-2 : Group Anagrams\r\n",
        "\r\n",
        "Purpose of the this coding challenge is to solve a grouping algorithm in Python.\r\n",
        "\r\n",
        "### Learning Outcomes\r\n",
        "\r\n",
        "At the end of the this coding challenge, students will be able to;\r\n",
        "\r\n",
        "- get a basic understanding of grouping algorithms.\r\n",
        "- demonstrate their knowledge of lists, dicts in python\r\n",
        "- implement loops to solve the problems in python\r\n",
        "- get a better understanding of computational thinking concepts\r\n",
        "\r\n",
        "### Problem Statement\r\n",
        "  \r\n",
        "- Given a list of strings, group anagrams together.\r\n",
        "\r\n",
        "- Example:\r\n",
        "\r\n",
        "**Input:**\r\n",
        "```\r\n",
        "[\"eat\", \"tea\", \"tan\", \"ate\", \"nat\", \"bat\"],\r\n",
        "Output:\r\n",
        "[\r\n",
        "  [\"ate\",\"eat\",\"tea\"],\r\n",
        "  [\"nat\",\"tan\"],\r\n",
        "  [\"bat\"]\r\n",
        "]\r\n",
        "```\r\n",
        "Note:\r\n",
        "All inputs will be in lowercase.\r\n",
        "The order of your output does not matter."
      ],
      "metadata": {
        "id": "YQA2OaIsI58x"
      }
    },
    {
      "cell_type": "markdown",
      "source": [
        "### Solution :"
      ],
      "metadata": {
        "id": "6rIiurMFI580"
      }
    },
    {
      "cell_type": "code",
      "execution_count": 22,
      "source": [
        "strs = [\"eat\", \"tea\", \"tan\", \"ate\", \"nat\", \"bat\", \"cat\", \"tac\"]\r\n",
        "çıktı = {}\r\n",
        "for x in strs:\r\n",
        "    a = \"\".join(sorted(x))\r\n",
        "    if a in çıktı:\r\n",
        "        çıktı[a].append(x)\r\n",
        "    else:\r\n",
        "        k = 0\r\n",
        "        çıktı[a] = list(x)\r\n",
        "print(çıktı)\r\n"
      ],
      "outputs": [
        {
          "output_type": "stream",
          "name": "stdout",
          "text": [
            "{'aet': ['e', 'a', 't', 'tea', 'ate'], 'ant': ['t', 'a', 'n', 'nat'], 'abt': ['b', 'a', 't'], 'act': ['c', 'a', 't', 'tac']}\n"
          ]
        }
      ],
      "metadata": {
        "id": "cw1VGpWUI582",
        "outputId": "bf3dfb71-c8a6-4d92-cb19-b483a1272021"
      }
    },
    {
      "cell_type": "code",
      "execution_count": 3,
      "source": [
        "strs = [\"eat\", \"tea\", \"tan\", \"ate\", \"nat\", \"bat\", \"cat\", \"tac\"]\r\n",
        "strs = set(strs)\r\n",
        "strs"
      ],
      "outputs": [
        {
          "output_type": "execute_result",
          "data": {
            "text/plain": [
              "{'ate', 'bat', 'cat', 'eat', 'nat', 'tac', 'tan', 'tea'}"
            ]
          },
          "metadata": {},
          "execution_count": 3
        }
      ],
      "metadata": {}
    },
    {
      "cell_type": "markdown",
      "source": [
        "## Coding Challenge - 3: Calculating the Amount of Water to be Trapped on Terrain\n",
        "\n",
        "The purpose of this coding challenge is to write a program that calculates the amount of water that can be contained within the generated holes.\n",
        "\n",
        "### Learning Outcomes\n",
        "\n",
        "At the end of this coding challenge, students will be able to;\n",
        "\n",
        "- analyze a problem, identify, and apply programming knowledge for appropriate solution.\n",
        "\n",
        "- design, implement `while` loops effectively in Python to solve the given problem.\n",
        "\n",
        "- control loops effectively by using `if` and `control` statements.\n",
        "\n",
        "- demonstrate their knowledge of algorithmic design principles by using solving the problem effectively.\n",
        "\n",
        "### Problem Statement\n",
        "\n",
        "- Given an array of non-negative integers representing an elevation map as shown below where the width of each bar is 1, compute how much water will be trapped on terrain after raining. To clarify further, the black boxes represents terrain and its height, and the blue boxes represents the water that could be trapped on the terrain.\n",
        "\n",
        "<center><img src=\"https://raw.githubusercontent.com/andrewfade/myprojects/main/image.png\" /></center>\n",
        "\n",
        "- User can enter as many numbers as they want to represent elevation of the terrain.\n",
        "\n",
        "- You can assume all the inputs are valid, thus you don't have to do an input check.\n",
        "\n",
        "- At the end of the program write a comment that indicates which computational thinking heuristics you have used and how you used them.\n",
        "\n",
        "- Example of user inputs and respective outputs.\n",
        "\n",
        "```text\n",
        "Inputs\n",
        "------------------------------\n",
        "Type 'ok' when you are done: 5\n",
        "Type 'ok' when you are done: 4\n",
        "Type 'ok' when you are done: 5\n",
        "Type 'ok' when you are done: ok\n",
        "\n",
        "Output\n",
        "------\n",
        "1\n",
        "\n",
        "Inputs\n",
        "------------------------------\n",
        "Type 'ok' when you are done: 2\n",
        "Type 'ok' when you are done: 1\n",
        "Type 'ok' when you are done: 2\n",
        "Type 'ok' when you are done: 3\n",
        "Type 'ok' when you are done: 2\n",
        "Type 'ok' when you are done: 3\n",
        "Type 'ok' when you are done: ok\n",
        "\n",
        "Output\n",
        "------\n",
        "2\n",
        "\n",
        "Inputs\n",
        "------------------------------\n",
        "Type 'ok' when you are done: 6\n",
        "Type 'ok' when you are done: 5\n",
        "Type 'ok' when you are done: 8\n",
        "Type 'ok' when you are done: 9\n",
        "Type 'ok' when you are done: 2\n",
        "Type 'ok' when you are done: 4\n",
        "Type 'ok' when you are done: 3\n",
        "Type 'ok' when you are done: 6\n",
        "Type 'ok' when you are done: ok\n",
        "\n",
        "Output\n",
        "------\n",
        "10\n",
        "```"
      ],
      "metadata": {
        "id": "TWLcDf17I586"
      }
    },
    {
      "cell_type": "markdown",
      "source": [
        "### Solution :"
      ],
      "metadata": {
        "id": "NUS2xcOUI58-"
      }
    },
    {
      "cell_type": "code",
      "execution_count": null,
      "source": [],
      "outputs": [
        {
          "output_type": "stream",
          "name": "stdout",
          "text": [
            "Type 'ok' when you are done: 4\n",
            "Type 'ok' when you are done: 3\n",
            "Type 'ok' when you are done: 6\n",
            "Type 'ok' when you are done: 0\n",
            "Type 'ok' when you are done: 1\n",
            "Type 'ok' when you are done: 0\n",
            "Type 'ok' when you are done: 2\n",
            "Type 'ok' when you are done: ok\n",
            "\n",
            "Rain-trapped area :  6\n"
          ]
        }
      ],
      "metadata": {
        "id": "iMjq0tj-I59E",
        "outputId": "8946d13e-d7ea-49fb-90f1-1cb959e46ef0"
      }
    },
    {
      "cell_type": "code",
      "execution_count": null,
      "source": [],
      "outputs": [],
      "metadata": {
        "id": "1cCz1ryfI59G"
      }
    }
  ]
}