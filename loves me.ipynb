{
 "cells": [
  {
   "cell_type": "code",
   "execution_count": 27,
   "source": [
    "def loves_me(num):    \r\n",
    "    text = 'Loves me'\r\n",
    "    result = ''\r\n",
    "    for i in range(1, num + 1):\r\n",
    "        if i % 2 == 0:\r\n",
    "            res = text + ' not'\r\n",
    "        else:\r\n",
    "            res = text\r\n",
    "        if i == num:\r\n",
    "            res = res.upper()\r\n",
    "        result += res + ', '\r\n",
    "    result = result.strip(', ')\r\n",
    "    return result\r\n",
    "print(loves_me(7))"
   ],
   "outputs": [
    {
     "output_type": "stream",
     "name": "stdout",
     "text": [
      "Loves me, Loves me not, Loves me, Loves me not, Loves me, Loves me not, LOVES ME\n"
     ]
    }
   ],
   "metadata": {}
  },
  {
   "cell_type": "code",
   "execution_count": 2,
   "source": [
    "a = int(input(\"Enter a number of petals\"))\r\n",
    "x = \"Loves Me, \"\r\n",
    "y = \"Loves Me Not, \"\r\n",
    "if a % 2 :\r\n",
    "    print(((x + y) * (a // 2)).rstrip(),\"LOVES ME\")\r\n",
    "else:\r\n",
    "    print(((x + y) * ((a-1) // 2)).rstrip(),\"Loves Me,\",\"LOVES ME NOT\")    \r\n"
   ],
   "outputs": [
    {
     "output_type": "stream",
     "name": "stdout",
     "text": [
      "Loves Me, Loves Me Not, Loves Me, Loves Me Not, Loves Me, LOVES ME NOT\n"
     ]
    }
   ],
   "metadata": {}
  }
 ],
 "metadata": {
  "orig_nbformat": 4,
  "language_info": {
   "name": "python",
   "version": "3.9.6",
   "mimetype": "text/x-python",
   "codemirror_mode": {
    "name": "ipython",
    "version": 3
   },
   "pygments_lexer": "ipython3",
   "nbconvert_exporter": "python",
   "file_extension": ".py"
  },
  "kernelspec": {
   "name": "python3",
   "display_name": "Python 3.9.6 64-bit (windows store)"
  },
  "interpreter": {
   "hash": "91e309b0d6f9bd13113d0dab55954c7a828cac190944509a12384aacede56c3d"
  }
 },
 "nbformat": 4,
 "nbformat_minor": 2
}