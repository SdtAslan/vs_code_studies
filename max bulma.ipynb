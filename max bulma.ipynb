{
 "cells": [
  {
   "cell_type": "code",
   "execution_count": 12,
   "source": [
    "liste = []\r\n",
    "x = int(input(\"Enter a number\"))\r\n",
    "y = int(input(\"Enter a number\"))\r\n",
    "z = int(input(\"Enter a number\"))\r\n",
    "liste.append(x)\r\n",
    "liste.append(y)\r\n",
    "liste.append(z)\r\n",
    "liste2 = []\r\n",
    "if liste[0] >= (liste[1] and liste[2]):\r\n",
    "    liste2.append(liste[0])\r\n",
    "elif liste[1] >= (liste[0] and liste[2]):\r\n",
    "    liste2.append(liste[1])\r\n",
    "elif liste[2] >= (liste[0] and liste[1]):\r\n",
    "    liste2.append(liste[2])\r\n",
    "print(\"liste: \",liste)\r\n",
    "print(\"max item of liste:\",liste2)\r\n"
   ],
   "outputs": [
    {
     "output_type": "stream",
     "name": "stdout",
     "text": [
      "liste:  [15, 9, 75]\n",
      "max item of liste: [75]\n"
     ]
    }
   ],
   "metadata": {}
  }
 ],
 "metadata": {
  "orig_nbformat": 4,
  "language_info": {
   "name": "python",
   "version": "3.9.6",
   "mimetype": "text/x-python",
   "codemirror_mode": {
    "name": "ipython",
    "version": 3
   },
   "pygments_lexer": "ipython3",
   "nbconvert_exporter": "python",
   "file_extension": ".py"
  },
  "kernelspec": {
   "name": "python3",
   "display_name": "Python 3.9.6 64-bit (windows store)"
  },
  "interpreter": {
   "hash": "91e309b0d6f9bd13113d0dab55954c7a828cac190944509a12384aacede56c3d"
  }
 },
 "nbformat": 4,
 "nbformat_minor": 2
}