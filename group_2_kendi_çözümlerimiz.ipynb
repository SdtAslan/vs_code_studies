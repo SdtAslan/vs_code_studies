{
  "nbformat": 4,
  "nbformat_minor": 2,
  "metadata": {
    "colab": {
      "name": "group_2.ipynb",
      "provenance": []
    },
    "kernelspec": {
      "name": "python3",
      "display_name": "Python 3.8.8 64-bit ('base': conda)"
    },
    "language_info": {
      "name": "python",
      "version": "3.8.8",
      "mimetype": "text/x-python",
      "codemirror_mode": {
        "name": "ipython",
        "version": 3
      },
      "pygments_lexer": "ipython3",
      "nbconvert_exporter": "python",
      "file_extension": ".py"
    },
    "interpreter": {
      "hash": "b9ed21ce3e79e551a27a11d2551dd0fb060a3f4c5f44a14454b2145fe2b135cb"
    }
  },
  "cells": [
    {
      "cell_type": "markdown",
      "source": [
        "1- Write a program to prompt for a score between 0.0 and 1.0. If the score is out of range, print an error. If the score is between 0.0 and 1.0, print a grade using the following table: Score Grade\n",
        "\n",
        "0.9 A\n",
        "\n",
        "0.8 B\n",
        "\n",
        "0.7 C\n",
        "\n",
        "0.6 D\n",
        "\n",
        "0.6 F\n",
        "\n",
        "If the user enters a value out of range, print a suitable error message and exit. For the test, enter a score of 0.85"
      ],
      "metadata": {
        "id": "DpXjn6Vd9Yw6"
      }
    },
    {
      "cell_type": "code",
      "execution_count": 6,
      "source": [
        "s = float(input('Enter a score: '))\r\n",
        "if 0.0 <= s <= 1.0 :\r\n",
        "  if s >= 0.9:\r\n",
        "    print('A')\r\n",
        "  elif s>=0.8:\r\n",
        "    print('B')\r\n",
        "  elif s >= 0.7 :\r\n",
        "    print('C')\r\n",
        "  elif s >=0.6:\r\n",
        "    print('D')\r\n",
        "  elif s < 0.6 :\r\n",
        "    print('F')\r\n",
        "else:\r\n",
        "  print('invalid input')"
      ],
      "outputs": [
        {
          "output_type": "stream",
          "name": "stdout",
          "text": [
            "C\n"
          ]
        }
      ],
      "metadata": {}
    },
    {
      "cell_type": "markdown",
      "source": [
        "2- Yazi olarak girilen string ifadenin içindeki harfler tamamen büyük veya tamamen küçük ise True, küçük ve büyük harlerden oluşmuş ise False veren bir fonksiyon yazalım."
      ],
      "metadata": {
        "id": "k7W9-BOA9n7O"
      }
    },
    {
      "cell_type": "code",
      "execution_count": null,
      "source": [
        "x = input( \"Enter a word: \")\r\n",
        "alphabet_lower = [chr(i) for i in range(97, 123)]\r\n",
        "alphabet_lower.append(\" \")\r\n",
        "\r\n",
        "count = 0\r\n",
        "count1 = 0\r\n",
        "for i in x:\r\n",
        "    if i in alphabet_lower:\r\n",
        "        count += 1\r\n",
        "    else:\r\n",
        "        count1 += 1\r\n",
        "if count == 0 and count1 > 0:\r\n",
        "    result = True\r\n",
        "elif count > 0 and count1 == 0:\r\n",
        "    result = True\r\n",
        "else:\r\n",
        "    result = False\r\n",
        "print(result)"
      ],
      "outputs": [],
      "metadata": {}
    },
    {
      "cell_type": "markdown",
      "source": [
        "yada"
      ],
      "metadata": {}
    },
    {
      "cell_type": "code",
      "execution_count": 4,
      "source": [
        "def buyuk_kucuk(yazi):\r\n",
        "  if yazi.islower() or yazi.isupper() :\r\n",
        "    return True\r\n",
        "  else:\r\n",
        "    return False\r\n",
        "buyuk_kucuk('raife hoca king')"
      ],
      "outputs": [
        {
          "output_type": "execute_result",
          "data": {
            "text/plain": [
              "True"
            ]
          },
          "metadata": {},
          "execution_count": 4
        }
      ],
      "metadata": {}
    },
    {
      "cell_type": "markdown",
      "source": [
        "3- Sayıyı kalansız bölen sayıları bulan bir fonksiyon yazalım"
      ],
      "metadata": {
        "id": "6PFwqEFO9nxy"
      }
    },
    {
      "cell_type": "markdown",
      "source": [
        "4- Cümlenin içindeki sesli harfleri kaldıran bir fonksiyon yazalım.\n",
        "print(sessiz_yap(\"Hayat beni neden yoruyosun?:)\")) --> hyt bn ndn yrysn?:)"
      ],
      "metadata": {
        "id": "rgWFi-lZ9noI"
      }
    },
    {
      "cell_type": "code",
      "execution_count": 7,
      "source": [
        "def sessiz(sentence):\r\n",
        "    sesli = [\"a\",\"e\",\"ı\",\"i\",\"o\",\"ö\",\"u\",\"ü\"]\r\n",
        "    sentence1 = []\r\n",
        "    for i in sentence:\r\n",
        "        sentence1.append(i)\r\n",
        "    for i in sentence1 :\r\n",
        "        if i in sesli :\r\n",
        "            sentence1.remove(i)\r\n",
        "    return sentence1\r\n",
        "print(*sessiz(\"Hayat beni neden yoruyosun?\"))\r\n"
      ],
      "outputs": [
        {
          "output_type": "stream",
          "name": "stdout",
          "text": [
            "H y t   b n   n d n   y r y s n ?\n"
          ]
        }
      ],
      "metadata": {}
    },
    {
      "cell_type": "code",
      "execution_count": 12,
      "source": [
        "def sessiz(sentence):\r\n",
        "    #sesli = [\"a\",\"e\",\"ı\",\"i\",\"o\",\"ö\",\"u\",\"ü\",\"A\",\"E\",\"I\",\"İ\",\"O\",\"Ö\",\"U\",\"Ü\"]\r\n",
        "    #yerine\r\n",
        "    sesli = \"aeıioöuüAEIİOÖUÜ\"\r\n",
        "    for i in sentence :\r\n",
        "        if i in sesli :\r\n",
        "           a = sentence.replace(i,\"\")\r\n",
        "           sentence = a\r\n",
        "\r\n",
        "    return a\r\n",
        "sessiz(\"Hayat bEni neden yoruyosun?\")"
      ],
      "outputs": [
        {
          "output_type": "execute_result",
          "data": {
            "text/plain": [
              "'Hyt bn ndn yrysn?'"
            ]
          },
          "metadata": {},
          "execution_count": 12
        }
      ],
      "metadata": {}
    },
    {
      "cell_type": "markdown",
      "source": [
        "5- Tarihi yüzyıla çeviren bir fonksiyon yazalım.\n",
        "print(yüzyıl_yap(1738)) --> 18. yüzyıl"
      ],
      "metadata": {
        "id": "yxwOQSQe9ne1"
      }
    },
    {
      "cell_type": "code",
      "execution_count": 15,
      "source": [
        "def century(year):\r\n",
        "    year = str(year)\r\n",
        "    i = 0\r\n",
        "    cen = []\r\n",
        "    while i < 2 :\r\n",
        "        cen.append(year[i])\r\n",
        "        i += 1\r\n",
        "    a = cen[0] + cen[1]    \r\n",
        "    a = int(a)\r\n",
        "    return a+1\r\n",
        "century(1999)\r\n"
      ],
      "outputs": [
        {
          "output_type": "execute_result",
          "data": {
            "text/plain": [
              "20"
            ]
          },
          "metadata": {},
          "execution_count": 15
        }
      ],
      "metadata": {}
    },
    {
      "cell_type": "markdown",
      "source": [
        "Daha iyi çözüm"
      ],
      "metadata": {}
    },
    {
      "cell_type": "code",
      "execution_count": 14,
      "source": [
        "def yüzyıl(yıl):\r\n",
        "    return f\"{(yıl //100) +1}. yüzyıl\"\r\n",
        "yüzyıl(1836)"
      ],
      "outputs": [
        {
          "output_type": "execute_result",
          "data": {
            "text/plain": [
              "'19. yüzyıl'"
            ]
          },
          "metadata": {},
          "execution_count": 14
        }
      ],
      "metadata": {}
    },
    {
      "cell_type": "markdown",
      "source": [
        "6- Yazının içersindeki kelimelerin ilk ve son karakterleri sabit tutup diğer karakterleri yerine - çizgi koyan fonksiyon yazalım.\n",
        "print(dönüstür(\"hello world\")) --> h---o w---d "
      ],
      "metadata": {
        "id": "Y4qLf-_89nL4"
      }
    },
    {
      "cell_type": "code",
      "execution_count": 21,
      "source": [
        "def donustur(a):\r\n",
        "    b = a.split()\r\n",
        "    new = \"\"\r\n",
        "    for i in b:\r\n",
        "        x = len(i)\r\n",
        "        c = i.replace(i[1:(x-1):1], \"-\" *(x-2))\r\n",
        "        new += c + \" \"\r\n",
        "    return new.strip()\r\n",
        "donustur(\"Raife Hoca King\")\r\n"
      ],
      "outputs": [
        {
          "output_type": "execute_result",
          "data": {
            "text/plain": [
              "'R---e H--a K--g'"
            ]
          },
          "metadata": {},
          "execution_count": 21
        }
      ],
      "metadata": {}
    },
    {
      "cell_type": "markdown",
      "source": [
        "7- Her girdi listesinde iki tanesi hariç her rakam en az bir kere tekrarlıyor.iki benzersiz sayıyı döndüren bir fonksiyon yazalım.\n",
        "benzersizi_bul([2,2,3,11,3,6,5]) --> [6, 5]  # 11 te 2 tane 1 var"
      ],
      "metadata": {
        "id": "mEPc7d0Z9nAI"
      }
    },
    {
      "cell_type": "code",
      "execution_count": 23,
      "source": [
        "def benzersiz(liste):\r\n",
        "    çıktı = []\r\n",
        "    s = \"\"\r\n",
        "    for i in liste:\r\n",
        "        s += str(i)\r\n",
        "    for k in set(s):\r\n",
        "        if s.count(k) == 1:\r\n",
        "            çıktı.append(int(k))\r\n",
        "    return çıktı\r\n",
        "benzersiz([2,2,3,11,3,6,5])"
      ],
      "outputs": [
        {
          "output_type": "execute_result",
          "data": {
            "text/plain": [
              "[6, 5]"
            ]
          },
          "metadata": {},
          "execution_count": 23
        }
      ],
      "metadata": {}
    },
    {
      "cell_type": "markdown",
      "source": [
        "8- Bir stringi(kelime) alan ve birbirini izleyen aynı harfleri çıkaran bir fonksiyon oluşturun.\n",
        "print(cıkar(\"mmmeeerrhhhaaabbbaaa\")) --> merhaba"
      ],
      "metadata": {
        "id": "GMgm2Jhu9mQj"
      }
    },
    {
      "cell_type": "code",
      "execution_count": null,
      "source": [],
      "outputs": [],
      "metadata": {}
    },
    {
      "cell_type": "markdown",
      "source": [
        "9- Belirli aralıkta(sınırlar dahil) verilen rakamın kaç kere olduğunu sayan bir fonksiyon yazalım. print(kac_tane(50,55,5)) --> 7"
      ],
      "metadata": {
        "id": "3oD9kK_q9mBH"
      }
    },
    {
      "cell_type": "code",
      "execution_count": null,
      "source": [],
      "outputs": [],
      "metadata": {}
    },
    {
      "cell_type": "markdown",
      "source": [
        "10- Yüksekliği verilen yılbaşı ağacını oluşturan bir fonksiyon yazalım. agac(7)\n",
        "\n",
        "\n",
        "```\n",
        "      #      \n",
        "     ###     \n",
        "    #####    \n",
        "   #######   \n",
        "  #########  \n",
        " ########### \n",
        "############# \n",
        "```\n",
        "\n"
      ],
      "metadata": {
        "id": "n1Tuy6szEGR8"
      }
    },
    {
      "cell_type": "code",
      "execution_count": 4,
      "source": [
        "def yılbası(n):\r\n",
        "    i = 1\r\n",
        "    while i < n+1 :\r\n",
        "        print((n-i)* \" \", \"#\"*(i*2-1) , (n-i) * \" \")\r\n",
        "        i += 1\r\n",
        "yılbası(7)\r\n",
        "\r\n"
      ],
      "outputs": [
        {
          "output_type": "stream",
          "name": "stdout",
          "text": [
            "       #       \n",
            "      ###      \n",
            "     #####     \n",
            "    #######    \n",
            "   #########   \n",
            "  ###########  \n",
            " ############# \n"
          ]
        }
      ],
      "metadata": {}
    }
  ]
}