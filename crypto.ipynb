{
 "cells": [
  {
   "cell_type": "code",
   "execution_count": 44,
   "source": [
    "alphabet = []\r\n",
    "atbash = []\r\n",
    "v = []\r\n",
    "for i in range(97, 123):\r\n",
    "    alphabet.append(chr(i))\r\n",
    "for i in range(122,96,-1):\r\n",
    "    atbash.append(chr(i))\r\n",
    "word = input(\"Enter a word\").lower()\r\n",
    "b = word.split()\r\n",
    "for i in b:\r\n",
    "    k = 0\r\n",
    "    for j in i:\r\n",
    "        i = i.replace(i[k],alphabet[atbash.index(j)])\r\n",
    "        k += 1\r\n",
    "    v.append(i)\r\n",
    "    v.append(str(\" \"))\r\n",
    "\r\n",
    "\r\n",
    "        \r\n",
    "print(word)\r\n",
    "print(v)"
   ],
   "outputs": [
    {
     "output_type": "stream",
     "name": "stdout",
     "text": [
      "i love you\n",
      "['r', ' ', 'llvv', ' ', 'blf', ' ']\n"
     ]
    }
   ],
   "metadata": {}
  },
  {
   "cell_type": "code",
   "execution_count": 12,
   "source": [
    "alphabet = \"abcdefghijklmnoöprstüwxvyz.,;:?! \"\r\n",
    "atbash =   \"zyvxwütsrpöonmlkjihgfedcba.,;:?! \"\r\n",
    "word = input(\"Enter a word\").lower()\r\n",
    "old = word\r\n",
    "k = 0\r\n",
    "for i in word:\r\n",
    "    word = word.replace(word[k],alphabet[atbash.index(i)])\r\n",
    "    k += 1\r\n",
    "print(old)\r\n",
    "print(word)"
   ],
   "outputs": [
    {
     "output_type": "stream",
     "name": "stdout",
     "text": [
      "\n",
      "\n"
     ]
    }
   ],
   "metadata": {}
  }
 ],
 "metadata": {
  "orig_nbformat": 4,
  "language_info": {
   "name": "python",
   "version": "3.9.6",
   "mimetype": "text/x-python",
   "codemirror_mode": {
    "name": "ipython",
    "version": 3
   },
   "pygments_lexer": "ipython3",
   "nbconvert_exporter": "python",
   "file_extension": ".py"
  },
  "kernelspec": {
   "name": "python3",
   "display_name": "Python 3.9.6 64-bit (windows store)"
  },
  "interpreter": {
   "hash": "91e309b0d6f9bd13113d0dab55954c7a828cac190944509a12384aacede56c3d"
  }
 },
 "nbformat": 4,
 "nbformat_minor": 2
}